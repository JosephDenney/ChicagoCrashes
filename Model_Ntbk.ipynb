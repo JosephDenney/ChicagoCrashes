{
 "cells": [
  {
   "cell_type": "code",
   "execution_count": 1,
   "metadata": {},
   "outputs": [],
   "source": [
    "import pandas as pd\n",
    "import numpy as np \n",
    "import csvw\n",
    "\n",
    "import scipy.stats as scs\n",
    "import statsmodels.api as sm\n",
    "import statsmodels.formula.api as sms\n",
    "import scipy.stats as stats\n",
    "\n",
    "from haversine import haversine\n",
    "from math import sqrt\n",
    "\n",
    "from sklearn.model_selection import train_test_split, cross_val_score\n",
    "from sklearn.metrics import accuracy_score, classification_report, confusion_matrix, roc_curve, auc\n",
    "from sklearn.ensemble import RandomForestClassifier, AdaBoostClassifier, GradientBoostingClassifier \n",
    "from sklearn.naive_bayes import BernoulliNB, CategoricalNB, GaussianNB, MultinomialNB\n",
    "from sklearn.model_selection import GridSearchCV, train_test_split\n",
    "from sklearn.metrics import classification_report, confusion_matrix, plot_confusion_matrix, accuracy_score, precision_recall_curve, f1_score, precision_score, recall_score\n",
    "from sklearn.base import BaseEstimator\n",
    "from sklearn.feature_selection import SelectKBest, chi2\n",
    "from sklearn.tree import DecisionTreeClassifier, plot_tree\n",
    "from sklearn.pipeline import Pipeline\n",
    "\n",
    "import matplotlib.pyplot as plt\n",
    "import seaborn as sns\n",
    "pd.options.display.float_format = '{:.2f}'.format"
   ]
  },
  {
   "cell_type": "code",
   "execution_count": 2,
   "metadata": {},
   "outputs": [],
   "source": [
    "df = pd.read_csv(r'data/ChicagoCrashes.csv')"
   ]
  },
  {
   "cell_type": "code",
   "execution_count": 3,
   "metadata": {},
   "outputs": [],
   "source": [
    "yes_no_converter = lambda x: 1 if x>=1 else 0"
   ]
  },
  {
   "cell_type": "code",
   "execution_count": 4,
   "metadata": {},
   "outputs": [
    {
     "data": {
      "text/html": [
       "<div>\n",
       "<style scoped>\n",
       "    .dataframe tbody tr th:only-of-type {\n",
       "        vertical-align: middle;\n",
       "    }\n",
       "\n",
       "    .dataframe tbody tr th {\n",
       "        vertical-align: top;\n",
       "    }\n",
       "\n",
       "    .dataframe thead th {\n",
       "        text-align: right;\n",
       "    }\n",
       "</style>\n",
       "<table border=\"1\" class=\"dataframe\">\n",
       "  <thead>\n",
       "    <tr style=\"text-align: right;\">\n",
       "      <th></th>\n",
       "      <th>Unnamed: 0</th>\n",
       "      <th>CRASH_DATE_x</th>\n",
       "      <th>OCCUPANT_CNT</th>\n",
       "      <th>POSTED_SPEED_LIMIT</th>\n",
       "      <th>BEAT_OF_OCCURRENCE</th>\n",
       "      <th>NUM_UNITS</th>\n",
       "      <th>INJURIES_TOTAL</th>\n",
       "      <th>INJURIES_FATAL</th>\n",
       "      <th>INJURIES_INCAPACITATING</th>\n",
       "      <th>INJURIES_NON_INCAPACITATING</th>\n",
       "      <th>INJURIES_REPORTED_NOT_EVIDENT</th>\n",
       "      <th>INJURIES_NO_INDICATION</th>\n",
       "      <th>INJURIES_UNKNOWN</th>\n",
       "      <th>CRASH_HOUR</th>\n",
       "      <th>CRASH_DAY_OF_WEEK</th>\n",
       "      <th>CRASH_MONTH</th>\n",
       "      <th>LATITUDE</th>\n",
       "      <th>LONGITUDE</th>\n",
       "    </tr>\n",
       "  </thead>\n",
       "  <tbody>\n",
       "    <tr>\n",
       "      <th>count</th>\n",
       "      <td>567454.00</td>\n",
       "      <td>567454.00</td>\n",
       "      <td>567454.00</td>\n",
       "      <td>567454.00</td>\n",
       "      <td>567454.00</td>\n",
       "      <td>567454.00</td>\n",
       "      <td>567454.00</td>\n",
       "      <td>567454.00</td>\n",
       "      <td>567454.00</td>\n",
       "      <td>567454.00</td>\n",
       "      <td>567454.00</td>\n",
       "      <td>567454.00</td>\n",
       "      <td>567454.00</td>\n",
       "      <td>567454.00</td>\n",
       "      <td>567454.00</td>\n",
       "      <td>567454.00</td>\n",
       "      <td>567454.00</td>\n",
       "      <td>567454.00</td>\n",
       "    </tr>\n",
       "    <tr>\n",
       "      <th>mean</th>\n",
       "      <td>990211.98</td>\n",
       "      <td>2018.06</td>\n",
       "      <td>1.41</td>\n",
       "      <td>28.89</td>\n",
       "      <td>1233.98</td>\n",
       "      <td>2.16</td>\n",
       "      <td>0.25</td>\n",
       "      <td>0.00</td>\n",
       "      <td>0.02</td>\n",
       "      <td>0.13</td>\n",
       "      <td>0.09</td>\n",
       "      <td>2.74</td>\n",
       "      <td>0.00</td>\n",
       "      <td>13.37</td>\n",
       "      <td>4.15</td>\n",
       "      <td>6.72</td>\n",
       "      <td>41.86</td>\n",
       "      <td>-87.68</td>\n",
       "    </tr>\n",
       "    <tr>\n",
       "      <th>std</th>\n",
       "      <td>594777.08</td>\n",
       "      <td>1.28</td>\n",
       "      <td>1.41</td>\n",
       "      <td>5.92</td>\n",
       "      <td>699.58</td>\n",
       "      <td>0.56</td>\n",
       "      <td>0.77</td>\n",
       "      <td>0.03</td>\n",
       "      <td>0.19</td>\n",
       "      <td>0.57</td>\n",
       "      <td>0.44</td>\n",
       "      <td>2.01</td>\n",
       "      <td>0.00</td>\n",
       "      <td>5.13</td>\n",
       "      <td>1.96</td>\n",
       "      <td>3.39</td>\n",
       "      <td>0.08</td>\n",
       "      <td>0.06</td>\n",
       "    </tr>\n",
       "    <tr>\n",
       "      <th>min</th>\n",
       "      <td>1.00</td>\n",
       "      <td>2015.00</td>\n",
       "      <td>0.00</td>\n",
       "      <td>0.00</td>\n",
       "      <td>111.00</td>\n",
       "      <td>1.00</td>\n",
       "      <td>0.00</td>\n",
       "      <td>0.00</td>\n",
       "      <td>0.00</td>\n",
       "      <td>0.00</td>\n",
       "      <td>0.00</td>\n",
       "      <td>0.00</td>\n",
       "      <td>0.00</td>\n",
       "      <td>0.00</td>\n",
       "      <td>1.00</td>\n",
       "      <td>1.00</td>\n",
       "      <td>41.64</td>\n",
       "      <td>-87.93</td>\n",
       "    </tr>\n",
       "    <tr>\n",
       "      <th>25%</th>\n",
       "      <td>475494.25</td>\n",
       "      <td>2017.00</td>\n",
       "      <td>1.00</td>\n",
       "      <td>30.00</td>\n",
       "      <td>725.00</td>\n",
       "      <td>2.00</td>\n",
       "      <td>0.00</td>\n",
       "      <td>0.00</td>\n",
       "      <td>0.00</td>\n",
       "      <td>0.00</td>\n",
       "      <td>0.00</td>\n",
       "      <td>2.00</td>\n",
       "      <td>0.00</td>\n",
       "      <td>10.00</td>\n",
       "      <td>2.00</td>\n",
       "      <td>4.00</td>\n",
       "      <td>41.79</td>\n",
       "      <td>-87.72</td>\n",
       "    </tr>\n",
       "    <tr>\n",
       "      <th>50%</th>\n",
       "      <td>965871.50</td>\n",
       "      <td>2018.00</td>\n",
       "      <td>1.00</td>\n",
       "      <td>30.00</td>\n",
       "      <td>1212.00</td>\n",
       "      <td>2.00</td>\n",
       "      <td>0.00</td>\n",
       "      <td>0.00</td>\n",
       "      <td>0.00</td>\n",
       "      <td>0.00</td>\n",
       "      <td>0.00</td>\n",
       "      <td>2.00</td>\n",
       "      <td>0.00</td>\n",
       "      <td>14.00</td>\n",
       "      <td>4.00</td>\n",
       "      <td>7.00</td>\n",
       "      <td>41.88</td>\n",
       "      <td>-87.67</td>\n",
       "    </tr>\n",
       "    <tr>\n",
       "      <th>75%</th>\n",
       "      <td>1494691.25</td>\n",
       "      <td>2019.00</td>\n",
       "      <td>2.00</td>\n",
       "      <td>30.00</td>\n",
       "      <td>1821.00</td>\n",
       "      <td>2.00</td>\n",
       "      <td>0.00</td>\n",
       "      <td>0.00</td>\n",
       "      <td>0.00</td>\n",
       "      <td>0.00</td>\n",
       "      <td>0.00</td>\n",
       "      <td>3.00</td>\n",
       "      <td>0.00</td>\n",
       "      <td>17.00</td>\n",
       "      <td>6.00</td>\n",
       "      <td>10.00</td>\n",
       "      <td>41.92</td>\n",
       "      <td>-87.63</td>\n",
       "    </tr>\n",
       "    <tr>\n",
       "      <th>max</th>\n",
       "      <td>2115933.00</td>\n",
       "      <td>2020.00</td>\n",
       "      <td>60.00</td>\n",
       "      <td>99.00</td>\n",
       "      <td>2535.00</td>\n",
       "      <td>15.00</td>\n",
       "      <td>21.00</td>\n",
       "      <td>3.00</td>\n",
       "      <td>6.00</td>\n",
       "      <td>21.00</td>\n",
       "      <td>15.00</td>\n",
       "      <td>61.00</td>\n",
       "      <td>0.00</td>\n",
       "      <td>23.00</td>\n",
       "      <td>7.00</td>\n",
       "      <td>12.00</td>\n",
       "      <td>42.02</td>\n",
       "      <td>-87.52</td>\n",
       "    </tr>\n",
       "  </tbody>\n",
       "</table>\n",
       "</div>"
      ],
      "text/plain": [
       "       Unnamed: 0  CRASH_DATE_x  OCCUPANT_CNT  POSTED_SPEED_LIMIT  \\\n",
       "count   567454.00     567454.00     567454.00           567454.00   \n",
       "mean    990211.98       2018.06          1.41               28.89   \n",
       "std     594777.08          1.28          1.41                5.92   \n",
       "min          1.00       2015.00          0.00                0.00   \n",
       "25%     475494.25       2017.00          1.00               30.00   \n",
       "50%     965871.50       2018.00          1.00               30.00   \n",
       "75%    1494691.25       2019.00          2.00               30.00   \n",
       "max    2115933.00       2020.00         60.00               99.00   \n",
       "\n",
       "       BEAT_OF_OCCURRENCE  NUM_UNITS  INJURIES_TOTAL  INJURIES_FATAL  \\\n",
       "count           567454.00  567454.00       567454.00       567454.00   \n",
       "mean              1233.98       2.16            0.25            0.00   \n",
       "std                699.58       0.56            0.77            0.03   \n",
       "min                111.00       1.00            0.00            0.00   \n",
       "25%                725.00       2.00            0.00            0.00   \n",
       "50%               1212.00       2.00            0.00            0.00   \n",
       "75%               1821.00       2.00            0.00            0.00   \n",
       "max               2535.00      15.00           21.00            3.00   \n",
       "\n",
       "       INJURIES_INCAPACITATING  INJURIES_NON_INCAPACITATING  \\\n",
       "count                567454.00                    567454.00   \n",
       "mean                      0.02                         0.13   \n",
       "std                       0.19                         0.57   \n",
       "min                       0.00                         0.00   \n",
       "25%                       0.00                         0.00   \n",
       "50%                       0.00                         0.00   \n",
       "75%                       0.00                         0.00   \n",
       "max                       6.00                        21.00   \n",
       "\n",
       "       INJURIES_REPORTED_NOT_EVIDENT  INJURIES_NO_INDICATION  \\\n",
       "count                      567454.00               567454.00   \n",
       "mean                            0.09                    2.74   \n",
       "std                             0.44                    2.01   \n",
       "min                             0.00                    0.00   \n",
       "25%                             0.00                    2.00   \n",
       "50%                             0.00                    2.00   \n",
       "75%                             0.00                    3.00   \n",
       "max                            15.00                   61.00   \n",
       "\n",
       "       INJURIES_UNKNOWN  CRASH_HOUR  CRASH_DAY_OF_WEEK  CRASH_MONTH  LATITUDE  \\\n",
       "count         567454.00   567454.00          567454.00    567454.00 567454.00   \n",
       "mean               0.00       13.37               4.15         6.72     41.86   \n",
       "std                0.00        5.13               1.96         3.39      0.08   \n",
       "min                0.00        0.00               1.00         1.00     41.64   \n",
       "25%                0.00       10.00               2.00         4.00     41.79   \n",
       "50%                0.00       14.00               4.00         7.00     41.88   \n",
       "75%                0.00       17.00               6.00        10.00     41.92   \n",
       "max                0.00       23.00               7.00        12.00     42.02   \n",
       "\n",
       "       LONGITUDE  \n",
       "count  567454.00  \n",
       "mean      -87.68  \n",
       "std         0.06  \n",
       "min       -87.93  \n",
       "25%       -87.72  \n",
       "50%       -87.67  \n",
       "75%       -87.63  \n",
       "max       -87.52  "
      ]
     },
     "execution_count": 4,
     "metadata": {},
     "output_type": "execute_result"
    }
   ],
   "source": [
    "df.describe()"
   ]
  },
  {
   "cell_type": "code",
   "execution_count": 5,
   "metadata": {},
   "outputs": [
    {
     "name": "stdout",
     "output_type": "stream",
     "text": [
      "<class 'pandas.core.frame.DataFrame'>\n",
      "RangeIndex: 567454 entries, 0 to 567453\n",
      "Data columns (total 49 columns):\n",
      " #   Column                         Non-Null Count   Dtype  \n",
      "---  ------                         --------------   -----  \n",
      " 0   Unnamed: 0                     567454 non-null  int64  \n",
      " 1   CRASH_DATE_x                   567454 non-null  int64  \n",
      " 2   UNIT_TYPE                      567454 non-null  object \n",
      " 3   MAKE                           567454 non-null  object \n",
      " 4   MODEL                          567454 non-null  object \n",
      " 5   VEHICLE_DEFECT                 567454 non-null  object \n",
      " 6   VEHICLE_TYPE                   567454 non-null  object \n",
      " 7   VEHICLE_USE                    567454 non-null  object \n",
      " 8   MANEUVER                       567454 non-null  object \n",
      " 9   OCCUPANT_CNT                   567454 non-null  float64\n",
      " 10  CRASH_DATE_y                   567454 non-null  object \n",
      " 11  POSTED_SPEED_LIMIT             567454 non-null  int64  \n",
      " 12  TRAFFIC_CONTROL_DEVICE         567454 non-null  object \n",
      " 13  DEVICE_CONDITION               567454 non-null  object \n",
      " 14  WEATHER_CONDITION              567454 non-null  object \n",
      " 15  LIGHTING_CONDITION             567454 non-null  object \n",
      " 16  FIRST_CRASH_TYPE               567454 non-null  object \n",
      " 17  TRAFFICWAY_TYPE                567454 non-null  object \n",
      " 18  ALIGNMENT                      567454 non-null  object \n",
      " 19  ROADWAY_SURFACE_COND           567454 non-null  object \n",
      " 20  ROAD_DEFECT                    567454 non-null  object \n",
      " 21  REPORT_TYPE                    567454 non-null  object \n",
      " 22  CRASH_TYPE                     567454 non-null  object \n",
      " 23  DAMAGE                         567454 non-null  object \n",
      " 24  PRIM_CONTRIBUTORY_CAUSE        567454 non-null  object \n",
      " 25  SEC_CONTRIBUTORY_CAUSE         567454 non-null  object \n",
      " 26  BEAT_OF_OCCURRENCE             567454 non-null  float64\n",
      " 27  NUM_UNITS                      567454 non-null  int64  \n",
      " 28  MOST_SEVERE_INJURY             567454 non-null  object \n",
      " 29  INJURIES_TOTAL                 567454 non-null  float64\n",
      " 30  INJURIES_FATAL                 567454 non-null  float64\n",
      " 31  INJURIES_INCAPACITATING        567454 non-null  float64\n",
      " 32  INJURIES_NON_INCAPACITATING    567454 non-null  float64\n",
      " 33  INJURIES_REPORTED_NOT_EVIDENT  567454 non-null  float64\n",
      " 34  INJURIES_NO_INDICATION         567454 non-null  float64\n",
      " 35  INJURIES_UNKNOWN               567454 non-null  float64\n",
      " 36  CRASH_HOUR                     567454 non-null  int64  \n",
      " 37  CRASH_DAY_OF_WEEK              567454 non-null  int64  \n",
      " 38  CRASH_MONTH                    567454 non-null  int64  \n",
      " 39  LATITUDE                       567454 non-null  float64\n",
      " 40  LONGITUDE                      567454 non-null  float64\n",
      " 41  PERSON_ID                      567454 non-null  object \n",
      " 42  PERSON_TYPE                    567454 non-null  object \n",
      " 43  CRASH_DATE                     567454 non-null  object \n",
      " 44  SEX                            567454 non-null  object \n",
      " 45  SAFETY_EQUIPMENT               567454 non-null  object \n",
      " 46  AIRBAG_DEPLOYED                567454 non-null  object \n",
      " 47  EJECTION                       567454 non-null  object \n",
      " 48  INJURY_CLASSIFICATION          567454 non-null  object \n",
      "dtypes: float64(11), int64(7), object(31)\n",
      "memory usage: 212.1+ MB\n"
     ]
    }
   ],
   "source": [
    "df.info()"
   ]
  },
  {
   "cell_type": "code",
   "execution_count": 6,
   "metadata": {
    "scrolled": true
   },
   "outputs": [
    {
     "name": "stdout",
     "output_type": "stream",
     "text": [
      "331.0\n"
     ]
    }
   ],
   "source": [
    "# target data, what we are trying to predict, should it be death ?\n",
    "print(df['INJURIES_FATAL'].sum()) # 685 deaths out of this 1.1 million line dataset - how can you predict them?"
   ]
  },
  {
   "cell_type": "code",
   "execution_count": 7,
   "metadata": {},
   "outputs": [],
   "source": [
    "def transform_df(df): # this will create a binary encoding for fatalities in an accident,\n",
    "    # 1 for a fatality was present\n",
    "    # and 0 for no fatality present\n",
    "    df['INJURIES_FATAL'] = df['INJURIES_FATAL'].apply(yes_no_converter)\n",
    "    # df['y'] = df['y'].apply(yes_no_converter)\n",
    "    return df\n",
    "\n",
    "df = transform_df(df)"
   ]
  },
  {
   "cell_type": "code",
   "execution_count": 8,
   "metadata": {},
   "outputs": [
    {
     "name": "stdout",
     "output_type": "stream",
     "text": [
      "['NO INDICATION OF INJURY' 'NONINCAPACITATING INJURY'\n",
      " 'REPORTED, NOT EVIDENT' 'INCAPACITATING INJURY' 'FATAL']\n"
     ]
    }
   ],
   "source": [
    "print(df['MOST_SEVERE_INJURY'].unique()) # what can we learn by attempting to classify the most severe injury?"
   ]
  },
  {
   "cell_type": "code",
   "execution_count": 9,
   "metadata": {},
   "outputs": [],
   "source": [
    "# KNN is not good with large or wide datasets, lets choose a different method. "
   ]
  },
  {
   "cell_type": "code",
   "execution_count": 10,
   "metadata": {},
   "outputs": [
    {
     "data": {
      "text/html": [
       "<div>\n",
       "<style scoped>\n",
       "    .dataframe tbody tr th:only-of-type {\n",
       "        vertical-align: middle;\n",
       "    }\n",
       "\n",
       "    .dataframe tbody tr th {\n",
       "        vertical-align: top;\n",
       "    }\n",
       "\n",
       "    .dataframe thead th {\n",
       "        text-align: right;\n",
       "    }\n",
       "</style>\n",
       "<table border=\"1\" class=\"dataframe\">\n",
       "  <thead>\n",
       "    <tr style=\"text-align: right;\">\n",
       "      <th></th>\n",
       "      <th>Unnamed: 0</th>\n",
       "      <th>CRASH_DATE_x</th>\n",
       "      <th>UNIT_TYPE</th>\n",
       "      <th>MAKE</th>\n",
       "      <th>MODEL</th>\n",
       "      <th>VEHICLE_DEFECT</th>\n",
       "      <th>VEHICLE_TYPE</th>\n",
       "      <th>VEHICLE_USE</th>\n",
       "      <th>MANEUVER</th>\n",
       "      <th>OCCUPANT_CNT</th>\n",
       "      <th>...</th>\n",
       "      <th>LATITUDE</th>\n",
       "      <th>LONGITUDE</th>\n",
       "      <th>PERSON_ID</th>\n",
       "      <th>PERSON_TYPE</th>\n",
       "      <th>CRASH_DATE</th>\n",
       "      <th>SEX</th>\n",
       "      <th>SAFETY_EQUIPMENT</th>\n",
       "      <th>AIRBAG_DEPLOYED</th>\n",
       "      <th>EJECTION</th>\n",
       "      <th>INJURY_CLASSIFICATION</th>\n",
       "    </tr>\n",
       "  </thead>\n",
       "  <tbody>\n",
       "    <tr>\n",
       "      <th>0</th>\n",
       "      <td>577317</td>\n",
       "      <td>2016</td>\n",
       "      <td>DRIVER</td>\n",
       "      <td>TOYOTA MOTOR COMPANY, LTD.</td>\n",
       "      <td>CAMRY</td>\n",
       "      <td>NONE</td>\n",
       "      <td>PASSENGER</td>\n",
       "      <td>PERSONAL</td>\n",
       "      <td>TURNING RIGHT</td>\n",
       "      <td>1.00</td>\n",
       "      <td>...</td>\n",
       "      <td>41.69</td>\n",
       "      <td>-87.54</td>\n",
       "      <td>O35015</td>\n",
       "      <td>DRIVER</td>\n",
       "      <td>03/18/2016 02:50:00 PM</td>\n",
       "      <td>F</td>\n",
       "      <td>SAFETY BELT USED</td>\n",
       "      <td>DID NOT DEPLOY</td>\n",
       "      <td>NONE</td>\n",
       "      <td>NO INDICATION OF INJURY</td>\n",
       "    </tr>\n",
       "    <tr>\n",
       "      <th>1</th>\n",
       "      <td>1612677</td>\n",
       "      <td>2019</td>\n",
       "      <td>DRIVER</td>\n",
       "      <td>BUICK</td>\n",
       "      <td>ENCLAVE</td>\n",
       "      <td>NONE</td>\n",
       "      <td>PASSENGER</td>\n",
       "      <td>PERSONAL</td>\n",
       "      <td>STRAIGHT AHEAD</td>\n",
       "      <td>1.00</td>\n",
       "      <td>...</td>\n",
       "      <td>41.74</td>\n",
       "      <td>-87.60</td>\n",
       "      <td>O804356</td>\n",
       "      <td>DRIVER</td>\n",
       "      <td>12/17/2019 04:04:00 PM</td>\n",
       "      <td>M</td>\n",
       "      <td>SAFETY BELT USED</td>\n",
       "      <td>NOT APPLICABLE</td>\n",
       "      <td>NONE</td>\n",
       "      <td>NO INDICATION OF INJURY</td>\n",
       "    </tr>\n",
       "    <tr>\n",
       "      <th>2</th>\n",
       "      <td>547332</td>\n",
       "      <td>2018</td>\n",
       "      <td>DRIVER</td>\n",
       "      <td>CHEVROLET</td>\n",
       "      <td>MALIBU (CHEVELLE)</td>\n",
       "      <td>NONE</td>\n",
       "      <td>PASSENGER</td>\n",
       "      <td>PERSONAL</td>\n",
       "      <td>AVOIDING VEHICLES/OBJECTS</td>\n",
       "      <td>1.00</td>\n",
       "      <td>...</td>\n",
       "      <td>41.80</td>\n",
       "      <td>-87.58</td>\n",
       "      <td>O337302</td>\n",
       "      <td>DRIVER</td>\n",
       "      <td>03/05/2018 12:35:00 PM</td>\n",
       "      <td>F</td>\n",
       "      <td>SAFETY BELT USED</td>\n",
       "      <td>DID NOT DEPLOY</td>\n",
       "      <td>NONE</td>\n",
       "      <td>NO INDICATION OF INJURY</td>\n",
       "    </tr>\n",
       "    <tr>\n",
       "      <th>3</th>\n",
       "      <td>756129</td>\n",
       "      <td>2018</td>\n",
       "      <td>DRIVER</td>\n",
       "      <td>HYUNDAI</td>\n",
       "      <td>Accent</td>\n",
       "      <td>NONE</td>\n",
       "      <td>PASSENGER</td>\n",
       "      <td>PERSONAL</td>\n",
       "      <td>STRAIGHT AHEAD</td>\n",
       "      <td>1.00</td>\n",
       "      <td>...</td>\n",
       "      <td>41.97</td>\n",
       "      <td>-87.79</td>\n",
       "      <td>O427371</td>\n",
       "      <td>DRIVER</td>\n",
       "      <td>07/07/2018 12:50:00 PM</td>\n",
       "      <td>F</td>\n",
       "      <td>SAFETY BELT USED</td>\n",
       "      <td>DID NOT DEPLOY</td>\n",
       "      <td>NONE</td>\n",
       "      <td>NO INDICATION OF INJURY</td>\n",
       "    </tr>\n",
       "    <tr>\n",
       "      <th>4</th>\n",
       "      <td>95047</td>\n",
       "      <td>2017</td>\n",
       "      <td>DRIVER</td>\n",
       "      <td>CHEVROLET</td>\n",
       "      <td>MONTE CARLO</td>\n",
       "      <td>NONE</td>\n",
       "      <td>PASSENGER</td>\n",
       "      <td>PERSONAL</td>\n",
       "      <td>BACKING</td>\n",
       "      <td>1.00</td>\n",
       "      <td>...</td>\n",
       "      <td>41.77</td>\n",
       "      <td>-87.66</td>\n",
       "      <td>O141732</td>\n",
       "      <td>DRIVER</td>\n",
       "      <td>04/01/2017 11:35:00 AM</td>\n",
       "      <td>M</td>\n",
       "      <td>SAFETY BELT USED</td>\n",
       "      <td>DID NOT DEPLOY</td>\n",
       "      <td>NONE</td>\n",
       "      <td>NO INDICATION OF INJURY</td>\n",
       "    </tr>\n",
       "  </tbody>\n",
       "</table>\n",
       "<p>5 rows × 49 columns</p>\n",
       "</div>"
      ],
      "text/plain": [
       "   Unnamed: 0  CRASH_DATE_x UNIT_TYPE                        MAKE  \\\n",
       "0      577317          2016    DRIVER  TOYOTA MOTOR COMPANY, LTD.   \n",
       "1     1612677          2019    DRIVER                       BUICK   \n",
       "2      547332          2018    DRIVER                   CHEVROLET   \n",
       "3      756129          2018    DRIVER                     HYUNDAI   \n",
       "4       95047          2017    DRIVER                   CHEVROLET   \n",
       "\n",
       "               MODEL VEHICLE_DEFECT VEHICLE_TYPE VEHICLE_USE  \\\n",
       "0              CAMRY           NONE    PASSENGER    PERSONAL   \n",
       "1            ENCLAVE           NONE    PASSENGER    PERSONAL   \n",
       "2  MALIBU (CHEVELLE)           NONE    PASSENGER    PERSONAL   \n",
       "3             Accent           NONE    PASSENGER    PERSONAL   \n",
       "4        MONTE CARLO           NONE    PASSENGER    PERSONAL   \n",
       "\n",
       "                    MANEUVER  OCCUPANT_CNT  ... LATITUDE  LONGITUDE PERSON_ID  \\\n",
       "0              TURNING RIGHT          1.00  ...    41.69     -87.54    O35015   \n",
       "1             STRAIGHT AHEAD          1.00  ...    41.74     -87.60   O804356   \n",
       "2  AVOIDING VEHICLES/OBJECTS          1.00  ...    41.80     -87.58   O337302   \n",
       "3             STRAIGHT AHEAD          1.00  ...    41.97     -87.79   O427371   \n",
       "4                    BACKING          1.00  ...    41.77     -87.66   O141732   \n",
       "\n",
       "  PERSON_TYPE              CRASH_DATE SEX  SAFETY_EQUIPMENT AIRBAG_DEPLOYED  \\\n",
       "0      DRIVER  03/18/2016 02:50:00 PM   F  SAFETY BELT USED  DID NOT DEPLOY   \n",
       "1      DRIVER  12/17/2019 04:04:00 PM   M  SAFETY BELT USED  NOT APPLICABLE   \n",
       "2      DRIVER  03/05/2018 12:35:00 PM   F  SAFETY BELT USED  DID NOT DEPLOY   \n",
       "3      DRIVER  07/07/2018 12:50:00 PM   F  SAFETY BELT USED  DID NOT DEPLOY   \n",
       "4      DRIVER  04/01/2017 11:35:00 AM   M  SAFETY BELT USED  DID NOT DEPLOY   \n",
       "\n",
       "  EJECTION    INJURY_CLASSIFICATION  \n",
       "0     NONE  NO INDICATION OF INJURY  \n",
       "1     NONE  NO INDICATION OF INJURY  \n",
       "2     NONE  NO INDICATION OF INJURY  \n",
       "3     NONE  NO INDICATION OF INJURY  \n",
       "4     NONE  NO INDICATION OF INJURY  \n",
       "\n",
       "[5 rows x 49 columns]"
      ]
     },
     "execution_count": 10,
     "metadata": {},
     "output_type": "execute_result"
    }
   ],
   "source": [
    "df.head()"
   ]
  },
  {
   "cell_type": "code",
   "execution_count": 11,
   "metadata": {
    "scrolled": true
   },
   "outputs": [],
   "source": [
    "df = df.drop(columns=['Unnamed: 0', 'MAKE', 'MODEL', 'LATITUDE', 'LONGITUDE', 'CRASH_DATE', 'CRASH_DATE_y', 'ALIGNMENT', 'BEAT_OF_OCCURRENCE', 'MOST_SEVERE_INJURY', 'INJURIES_TOTAL', 'INJURIES_INCAPACITATING', 'INJURIES_NON_INCAPACITATING', 'INJURIES_REPORTED_NOT_EVIDENT', 'INJURIES_NO_INDICATION', 'INJURIES_UNKNOWN', 'PERSON_ID', 'CRASH_DATE', 'INJURY_CLASSIFICATION'])"
   ]
  },
  {
   "cell_type": "code",
   "execution_count": 12,
   "metadata": {},
   "outputs": [
    {
     "name": "stdout",
     "output_type": "stream",
     "text": [
      "<class 'pandas.core.frame.DataFrame'>\n",
      "RangeIndex: 567454 entries, 0 to 567453\n",
      "Data columns (total 31 columns):\n",
      " #   Column                   Non-Null Count   Dtype  \n",
      "---  ------                   --------------   -----  \n",
      " 0   CRASH_DATE_x             567454 non-null  int64  \n",
      " 1   UNIT_TYPE                567454 non-null  object \n",
      " 2   VEHICLE_DEFECT           567454 non-null  object \n",
      " 3   VEHICLE_TYPE             567454 non-null  object \n",
      " 4   VEHICLE_USE              567454 non-null  object \n",
      " 5   MANEUVER                 567454 non-null  object \n",
      " 6   OCCUPANT_CNT             567454 non-null  float64\n",
      " 7   POSTED_SPEED_LIMIT       567454 non-null  int64  \n",
      " 8   TRAFFIC_CONTROL_DEVICE   567454 non-null  object \n",
      " 9   DEVICE_CONDITION         567454 non-null  object \n",
      " 10  WEATHER_CONDITION        567454 non-null  object \n",
      " 11  LIGHTING_CONDITION       567454 non-null  object \n",
      " 12  FIRST_CRASH_TYPE         567454 non-null  object \n",
      " 13  TRAFFICWAY_TYPE          567454 non-null  object \n",
      " 14  ROADWAY_SURFACE_COND     567454 non-null  object \n",
      " 15  ROAD_DEFECT              567454 non-null  object \n",
      " 16  REPORT_TYPE              567454 non-null  object \n",
      " 17  CRASH_TYPE               567454 non-null  object \n",
      " 18  DAMAGE                   567454 non-null  object \n",
      " 19  PRIM_CONTRIBUTORY_CAUSE  567454 non-null  object \n",
      " 20  SEC_CONTRIBUTORY_CAUSE   567454 non-null  object \n",
      " 21  NUM_UNITS                567454 non-null  int64  \n",
      " 22  INJURIES_FATAL           567454 non-null  int64  \n",
      " 23  CRASH_HOUR               567454 non-null  int64  \n",
      " 24  CRASH_DAY_OF_WEEK        567454 non-null  int64  \n",
      " 25  CRASH_MONTH              567454 non-null  int64  \n",
      " 26  PERSON_TYPE              567454 non-null  object \n",
      " 27  SEX                      567454 non-null  object \n",
      " 28  SAFETY_EQUIPMENT         567454 non-null  object \n",
      " 29  AIRBAG_DEPLOYED          567454 non-null  object \n",
      " 30  EJECTION                 567454 non-null  object \n",
      "dtypes: float64(1), int64(7), object(23)\n",
      "memory usage: 134.2+ MB\n"
     ]
    }
   ],
   "source": [
    "df.info()"
   ]
  },
  {
   "cell_type": "code",
   "execution_count": 13,
   "metadata": {},
   "outputs": [],
   "source": [
    "df_dummies = pd.get_dummies(df)\n"
   ]
  },
  {
   "cell_type": "code",
   "execution_count": 124,
   "metadata": {},
   "outputs": [
    {
     "data": {
      "text/plain": [
       "2020"
      ]
     },
     "execution_count": 124,
     "metadata": {},
     "output_type": "execute_result"
    }
   ],
   "source": [
    "df['CRASH_DATE_x'].max()"
   ]
  },
  {
   "cell_type": "code",
   "execution_count": 14,
   "metadata": {},
   "outputs": [],
   "source": [
    "df_train, df_valid = train_test_split(df_dummies, test_size=0.30)"
   ]
  },
  {
   "cell_type": "code",
   "execution_count": 15,
   "metadata": {},
   "outputs": [
    {
     "name": "stdout",
     "output_type": "stream",
     "text": [
      "<class 'pandas.core.frame.DataFrame'>\n",
      "Int64Index: 397217 entries, 196452 to 290726\n",
      "Columns: 319 entries, CRASH_DATE_x to EJECTION_UNKNOWN\n",
      "dtypes: float64(1), int64(7), uint8(311)\n",
      "memory usage: 145.1 MB\n"
     ]
    },
    {
     "data": {
      "text/plain": [
       "None"
      ]
     },
     "metadata": {},
     "output_type": "display_data"
    },
    {
     "name": "stdout",
     "output_type": "stream",
     "text": [
      "<class 'pandas.core.frame.DataFrame'>\n",
      "Int64Index: 170237 entries, 31363 to 108389\n",
      "Columns: 319 entries, CRASH_DATE_x to EJECTION_UNKNOWN\n",
      "dtypes: float64(1), int64(7), uint8(311)\n",
      "memory usage: 62.2 MB\n"
     ]
    },
    {
     "data": {
      "text/plain": [
       "None"
      ]
     },
     "metadata": {},
     "output_type": "display_data"
    }
   ],
   "source": [
    "display(df_train.info())\n",
    "display(df_valid.info())"
   ]
  },
  {
   "cell_type": "code",
   "execution_count": 123,
   "metadata": {},
   "outputs": [],
   "source": [
    "df_train_X = df_train.drop(columns='INJURIES_FATAL')\n",
    "df_train_y = df_train['INJURIES_FATAL']\n",
    "\n",
    "X = df_train_X\n",
    "y = df_train_y\n",
    "data_full = df_train.groupby(by='INJURIES_FATAL').sum()\n",
    "data_full.to_csv('crash_data.csv')"
   ]
  },
  {
   "cell_type": "code",
   "execution_count": 17,
   "metadata": {},
   "outputs": [],
   "source": [
    "cat_bayes = CategoricalNB()"
   ]
  },
  {
   "cell_type": "code",
   "execution_count": 18,
   "metadata": {},
   "outputs": [
    {
     "data": {
      "text/plain": [
       "CategoricalNB()"
      ]
     },
     "execution_count": 18,
     "metadata": {},
     "output_type": "execute_result"
    }
   ],
   "source": [
    "cat_bayes.fit(X,y)"
   ]
  },
  {
   "cell_type": "code",
   "execution_count": 19,
   "metadata": {},
   "outputs": [],
   "source": [
    "df_valid_X = df_valid.drop(columns='INJURIES_FATAL')\n",
    "df_valid_y = df_valid['INJURIES_FATAL']\n",
    "\n",
    "X_valid = pd.get_dummies(df_valid_X)\n",
    "y_valid = df_valid_y"
   ]
  },
  {
   "cell_type": "code",
   "execution_count": 20,
   "metadata": {},
   "outputs": [
    {
     "data": {
      "text/plain": [
       "((397217, 318), (397217,), (170237, 318), (170237,))"
      ]
     },
     "execution_count": 20,
     "metadata": {},
     "output_type": "execute_result"
    }
   ],
   "source": [
    "X.shape, y.shape, X_valid.shape, y_valid.shape"
   ]
  },
  {
   "cell_type": "code",
   "execution_count": 21,
   "metadata": {},
   "outputs": [
    {
     "name": "stdout",
     "output_type": "stream",
     "text": [
      "0.9901993117112309\n"
     ]
    }
   ],
   "source": [
    "train_score1 = cat_bayes.score(X,y)\n",
    "print(train_score1)"
   ]
  },
  {
   "cell_type": "code",
   "execution_count": 22,
   "metadata": {},
   "outputs": [
    {
     "name": "stdout",
     "output_type": "stream",
     "text": [
      "0.9900902858955456\n"
     ]
    }
   ],
   "source": [
    "test_score1 = cat_bayes.score(X_valid, y_valid)\n",
    "print(test_score1)"
   ]
  },
  {
   "cell_type": "code",
   "execution_count": 23,
   "metadata": {},
   "outputs": [
    {
     "name": "stdout",
     "output_type": "stream",
     "text": [
      "Model is overfit\n"
     ]
    }
   ],
   "source": [
    "if(train_score1 > test_score1):\n",
    "    print('Model is overfit')\n",
    "else:\n",
    "    print('Model is not overfit')"
   ]
  },
  {
   "cell_type": "code",
   "execution_count": 24,
   "metadata": {},
   "outputs": [],
   "source": [
    "y_valid_pred = cat_bayes.predict(X_valid)"
   ]
  },
  {
   "cell_type": "code",
   "execution_count": 25,
   "metadata": {
    "scrolled": true
   },
   "outputs": [
    {
     "data": {
      "image/png": "[encoded data removed]",
      "text/plain": [
       "<Figure size 432x288 with 2 Axes>"
      ]
     },
     "metadata": {
      "needs_background": "light"
     },
     "output_type": "display_data"
    }
   ],
   "source": [
    "plot_confusion_matrix(cat_bayes, X_valid, y_valid, cmap='rocket', values_format='1')\n",
    "plt.show()"
   ]
  },
  {
   "cell_type": "code",
   "execution_count": 26,
   "metadata": {},
   "outputs": [],
   "source": [
    "def score_report(ytrue, ypred):\n",
    "    print(\"Accuracy Score: \", accuracy_score(ytrue, ypred))\n",
    "    print(\"Precision Score: \", precision_score(ytrue, ypred)) # a little difficult for this to tell us much given the small ratio of fatalities to accidents\n",
    "    print(\"Recall Score: \", recall_score(ytrue, ypred)) # recall score is helpful, we can see that we are modeling almost 63% of accidents where there is a fatality     \n",
    "    print(\"F1 Score: \", f1_score(ytrue, ypred))\n",
    "    pass"
   ]
  },
  {
   "cell_type": "code",
   "execution_count": 27,
   "metadata": {},
   "outputs": [
    {
     "name": "stdout",
     "output_type": "stream",
     "text": [
      "Accuracy Score:  0.9900902858955456\n",
      "Precision Score:  0.02486678507992895\n",
      "Recall Score:  0.5121951219512195\n",
      "F1 Score:  0.047430830039525695\n"
     ]
    }
   ],
   "source": [
    "score_report(y_valid, y_valid_pred)"
   ]
  },
  {
   "cell_type": "code",
   "execution_count": 28,
   "metadata": {},
   "outputs": [
    {
     "name": "stdout",
     "output_type": "stream",
     "text": [
      "\n",
      "      This is the total number of accidents with a fatality \n",
      "      divided by the total number of accidents, expressed as \n",
      "      a percent:  0.0470522720784416\n",
      "\n",
      "      This is the total number of accidents with a fatality:  267\n",
      "\n",
      "      This is the total number of accidents:  567454\n"
     ]
    }
   ],
   "source": [
    "print('''\n",
    "      This is the total number of accidents with a fatality \n",
    "      divided by the total number of accidents, expressed as \n",
    "      a percent: ''',(df['INJURIES_FATAL'].sum()/df['INJURIES_FATAL'].count()*100))\n",
    "print('''\n",
    "      This is the total number of accidents with a fatality: ''',df['INJURIES_FATAL'].sum())\n",
    "print('''\n",
    "      This is the total number of accidents: ''', df['INJURIES_FATAL'].count())"
   ]
  },
  {
   "cell_type": "code",
   "execution_count": 29,
   "metadata": {},
   "outputs": [],
   "source": [
    "# based on the above we can see that this model is missing the mark on attempting\n",
    "# to predict where someone is likely to lose their life, missing on 16/43 actual\n",
    "# fatalities. it additionally misclassifies 1166 accidents where there was no fatality\n",
    "# but has indicated a false positive. The false positives are a problem in this model. "
   ]
  },
  {
   "cell_type": "code",
   "execution_count": 30,
   "metadata": {},
   "outputs": [],
   "source": [
    "selector = SelectKBest(score_func=chi2, k=15)"
   ]
  },
  {
   "cell_type": "code",
   "execution_count": 31,
   "metadata": {},
   "outputs": [],
   "source": [
    "sel = selector.fit(X,y)"
   ]
  },
  {
   "cell_type": "code",
   "execution_count": 32,
   "metadata": {},
   "outputs": [],
   "source": [
    "dfscores = sel.scores_\n",
    "dfcols = X.columns\n",
    "\n",
    "featscore = {}\n",
    "for num in list(range(len(dfcols))):\n",
    "    featscore[dfcols[num]] = round(dfscores[num], 2)\n",
    "    \n",
    "top_18 = {}\n",
    "for item in sorted(featscore.items(), key=lambda x: x[1], reverse=True)[:18]:\n",
    "    top_18[item[0]] = item[1]"
   ]
  },
  {
   "cell_type": "code",
   "execution_count": 33,
   "metadata": {},
   "outputs": [
    {
     "data": {
      "text/plain": [
       "{'EJECTION_TRAPPED/EXTRICATED': 1713.88,\n",
       " 'PRIM_CONTRIBUTORY_CAUSE_PHYSICAL CONDITION OF DRIVER': 1156.52,\n",
       " 'FIRST_CRASH_TYPE_PEDESTRIAN': 560.35,\n",
       " 'AIRBAG_DEPLOYED_DEPLOYED, COMBINATION': 469.23,\n",
       " 'EJECTION_TOTALLY EJECTED': 426.88,\n",
       " 'PRIM_CONTRIBUTORY_CAUSE_EXCEEDING AUTHORIZED SPEED LIMIT': 398.23,\n",
       " 'CRASH_TYPE_INJURY AND / OR TOW DUE TO CRASH': 374.3,\n",
       " 'SAFETY_EQUIPMENT_HELMET NOT USED': 239.22,\n",
       " 'VEHICLE_TYPE_MOTORCYCLE (OVER 150CC)': 168.14,\n",
       " 'REPORT_TYPE_ON SCENE': 146.24,\n",
       " 'SEC_CONTRIBUTORY_CAUSE_PHYSICAL CONDITION OF DRIVER': 143.71,\n",
       " 'CRASH_TYPE_NO INJURY / DRIVE AWAY': 135.81,\n",
       " 'REPORT_TYPE_NOT ON SCENE (DESK REPORT)': 106.8,\n",
       " 'NUM_UNITS': 100.46,\n",
       " 'PRIM_CONTRIBUTORY_CAUSE_DISREGARDING TRAFFIC SIGNALS': 98.52,\n",
       " 'FIRST_CRASH_TYPE_FIXED OBJECT': 70.11,\n",
       " 'PRIM_CONTRIBUTORY_CAUSE_OPERATING VEHICLE IN ERRATIC, RECKLESS, CARELESS, NEGLIGENT OR AGGRESSIVE MANNER': 68.34,\n",
       " 'SEC_CONTRIBUTORY_CAUSE_DISREGARDING TRAFFIC SIGNALS': 68.15}"
      ]
     },
     "execution_count": 33,
     "metadata": {},
     "output_type": "execute_result"
    }
   ],
   "source": [
    "top_18 # most impactful features indicating a fatality is likely"
   ]
  },
  {
   "cell_type": "code",
   "execution_count": 34,
   "metadata": {},
   "outputs": [],
   "source": [
    "def getList(dict):\n",
    "    return dict.keys()\n",
    "\n",
    "new_features = getList(top_18)"
   ]
  },
  {
   "cell_type": "code",
   "execution_count": 71,
   "metadata": {},
   "outputs": [
    {
     "name": "stdout",
     "output_type": "stream",
     "text": [
      "['EJECTION_TRAPPED/EXTRICATED', 'PRIM_CONTRIBUTORY_CAUSE_PHYSICAL CONDITION OF DRIVER', 'FIRST_CRASH_TYPE_PEDESTRIAN', 'AIRBAG_DEPLOYED_DEPLOYED, COMBINATION', 'EJECTION_TOTALLY EJECTED', 'PRIM_CONTRIBUTORY_CAUSE_EXCEEDING AUTHORIZED SPEED LIMIT', 'CRASH_TYPE_INJURY AND / OR TOW DUE TO CRASH', 'SAFETY_EQUIPMENT_HELMET NOT USED', 'VEHICLE_TYPE_MOTORCYCLE (OVER 150CC)', 'REPORT_TYPE_ON SCENE', 'SEC_CONTRIBUTORY_CAUSE_PHYSICAL CONDITION OF DRIVER', 'CRASH_TYPE_NO INJURY / DRIVE AWAY', 'REPORT_TYPE_NOT ON SCENE (DESK REPORT)', 'NUM_UNITS', 'PRIM_CONTRIBUTORY_CAUSE_DISREGARDING TRAFFIC SIGNALS', 'FIRST_CRASH_TYPE_FIXED OBJECT', 'PRIM_CONTRIBUTORY_CAUSE_OPERATING VEHICLE IN ERRATIC, RECKLESS, CARELESS, NEGLIGENT OR AGGRESSIVE MANNER', 'SEC_CONTRIBUTORY_CAUSE_DISREGARDING TRAFFIC SIGNALS']\n"
     ]
    }
   ],
   "source": [
    "top18_features = list(new_features)\n",
    "print(top18_features)"
   ]
  },
  {
   "cell_type": "code",
   "execution_count": 72,
   "metadata": {},
   "outputs": [],
   "source": [
    "def feature_occurrence_count(dataframe, lst):\n",
    "    for feat in lst:\n",
    "        if \n",
    "        print(feat)\n",
    "        print(feat, \" \", dataframe[feat].sum())\n",
    "    return \n"
   ]
  },
  {
   "cell_type": "code",
   "execution_count": 119,
   "metadata": {
    "scrolled": true
   },
   "outputs": [
    {
     "name": "stdout",
     "output_type": "stream",
     "text": [
      "<class 'pandas.core.frame.DataFrame'>\n",
      "Int64Index: 397217 entries, 196452 to 290726\n",
      "Columns: 319 entries, CRASH_DATE_x to EJECTION_UNKNOWN\n",
      "dtypes: float64(1), int64(7), uint8(311)\n",
      "memory usage: 145.1 MB\n"
     ]
    }
   ],
   "source": [
    "feature_list = ['PRIM_CONTRIBUTORY_CAUSE_PHYSICAL CONDITION OF DRIVER',\n",
    " 'EJECTION_TRAPPED/EXTRICATED',\n",
    " 'SAFETY_EQUIPMENT_HELMET NOT USED',\n",
    " 'AIRBAG_DEPLOYED_DEPLOYED, COMBINATION',\n",
    " 'FIRST_CRASH_TYPE_PEDESTRIAN',\n",
    " 'CRASH_TYPE_INJURY AND / OR TOW DUE TO CRASH',\n",
    " 'EJECTION_TOTALLY EJECTED',\n",
    " 'PRIM_CONTRIBUTORY_CAUSE_DISREGARDING TRAFFIC SIGNALS',\n",
    " 'VEHICLE_TYPE_MOTORCYCLE (OVER 150CC)',\n",
    " 'PRIM_CONTRIBUTORY_CAUSE_EXCEEDING AUTHORIZED SPEED LIMIT',\n",
    " 'SEC_CONTRIBUTORY_CAUSE_PHYSICAL CONDITION OF DRIVER',\n",
    " 'REPORT_TYPE_ON SCENE',\n",
    " 'CRASH_TYPE_NO INJURY / DRIVE AWAY',\n",
    " 'TRAFFIC_CONTROL_DEVICE_SCHOOL ZONE',\n",
    " 'REPORT_TYPE_NOT ON SCENE (DESK REPORT)',\n",
    " 'SEC_CONTRIBUTORY_CAUSE_EXCEEDING AUTHORIZED SPEED LIMIT',\n",
    " 'NUM_UNITS',\n",
    " 'TRAFFICWAY_TYPE_FOUR WAY']\n",
    "\n",
    "X2 = df_train[feature_list]\n",
    "y2 = df_train_y\n",
    "\n",
    "data_investigate = df_train\n",
    "data_investigate.sort_values(by='PRIM_CONTRIBUTORY_CAUSE_PHYSICAL CONDITION OF DRIVER').sum().head(10)\n",
    "data_investigate.info()\n",
    "di = data_investigate.groupby(by='INJURIES_FATAL').sum()\n",
    "di[feature_list].to_csv('vehicle_accident_data.csv')\n",
    "\n",
    "df"
   ]
  },
  {
   "cell_type": "code",
   "execution_count": 37,
   "metadata": {},
   "outputs": [
    {
     "data": {
      "text/plain": [
       "CategoricalNB()"
      ]
     },
     "execution_count": 37,
     "metadata": {},
     "output_type": "execute_result"
    }
   ],
   "source": [
    "cat_bayes.fit(X2,y2)"
   ]
  },
  {
   "cell_type": "code",
   "execution_count": 38,
   "metadata": {},
   "outputs": [],
   "source": [
    "df_valid_X = df_valid[feature_list]\n",
    "df_valid_y = df_valid['INJURIES_FATAL']\n",
    "# top 15 features are being used in X_valid2\n",
    "X_valid2 = df_valid_X\n",
    "y_valid2 = df_valid_y"
   ]
  },
  {
   "cell_type": "code",
   "execution_count": 39,
   "metadata": {},
   "outputs": [
    {
     "data": {
      "text/plain": [
       "((397217, 18), (397217,), (170237, 18), (170237,))"
      ]
     },
     "execution_count": 39,
     "metadata": {},
     "output_type": "execute_result"
    }
   ],
   "source": [
    "X2.shape, y2.shape, X_valid2.shape, y_valid2.shape"
   ]
  },
  {
   "cell_type": "code",
   "execution_count": 40,
   "metadata": {},
   "outputs": [
    {
     "name": "stdout",
     "output_type": "stream",
     "text": [
      "0.9929887190125297\n"
     ]
    }
   ],
   "source": [
    "train_score2 = cat_bayes.score(X2, y2)\n",
    "print(train_score2)"
   ]
  },
  {
   "cell_type": "code",
   "execution_count": 41,
   "metadata": {},
   "outputs": [
    {
     "name": "stdout",
     "output_type": "stream",
     "text": [
      "0.992757156199886\n"
     ]
    }
   ],
   "source": [
    "test_score2 = cat_bayes.score(X_valid2, y_valid2)\n",
    "print(test_score2)"
   ]
  },
  {
   "cell_type": "code",
   "execution_count": 42,
   "metadata": {},
   "outputs": [
    {
     "name": "stdout",
     "output_type": "stream",
     "text": [
      "Model is overfit\n"
     ]
    }
   ],
   "source": [
    "if(train_score2 > test_score2):\n",
    "    print('Model is overfit')\n",
    "else:\n",
    "    print('Model is not overfit')"
   ]
  },
  {
   "cell_type": "code",
   "execution_count": 43,
   "metadata": {},
   "outputs": [],
   "source": [
    "y_valid_pred2 = cat_bayes.predict(X_valid2)"
   ]
  },
  {
   "cell_type": "code",
   "execution_count": 44,
   "metadata": {},
   "outputs": [
    {
     "data": {
      "image/png": "[encoded data removed]",
      "text/plain": [
       "<Figure size 432x288 with 2 Axes>"
      ]
     },
     "metadata": {
      "needs_background": "light"
     },
     "output_type": "display_data"
    }
   ],
   "source": [
    "plot_confusion_matrix(cat_bayes, X_valid2, y_valid2, cmap='rocket', values_format='1')\n",
    "plt.show()"
   ]
  },
  {
   "cell_type": "markdown",
   "metadata": {},
   "source": [
    "### Model Insights - an improvement from our first model in terms of reducing false positives, but we also lost true positives and classified them as false negatives."
   ]
  },
  {
   "cell_type": "code",
   "execution_count": 45,
   "metadata": {},
   "outputs": [],
   "source": [
    "## optimize the model using a for loop and model type and a gridsearchCV\n",
    "# BernoulliNB, CategoricalNB, GaussianNB, MultinomialNB"
   ]
  },
  {
   "cell_type": "code",
   "execution_count": 46,
   "metadata": {},
   "outputs": [],
   "source": [
    "ran_for = RandomForestClassifier()\n",
    "ada_clf = AdaBoostClassifier()\n",
    "gb_clf = GradientBoostingClassifier()\n",
    "gau_NB = GaussianNB()\n",
    "\n",
    "models = [ran_for, ada_clf, gb_clf, gau_NB, cat_bayes]"
   ]
  },
  {
   "cell_type": "code",
   "execution_count": 47,
   "metadata": {},
   "outputs": [],
   "source": [
    "def model_opt(models, x, y, xtest, ytest):\n",
    "    for model in models:\n",
    "        pipe = Pipeline(steps=[('model', model)])\n",
    "        fit = pipe.fit(x, y)\n",
    "        ypred = model.predict(xtest)\n",
    "        print(model,\" \", fit.score(x, y))\n",
    "        plot_confusion_matrix(model, xtest, ytest, cmap='rocket', values_format='1')\n",
    "        plt.show()\n",
    "        score_report(ytest, ypred)\n",
    "    pass"
   ]
  },
  {
   "cell_type": "code",
   "execution_count": 48,
   "metadata": {},
   "outputs": [
    {
     "name": "stdout",
     "output_type": "stream",
     "text": [
      "RandomForestClassifier()   0.9999974824843851\n"
     ]
    },
    {
     "data": {
      "image/png": "[encoded data removed]",
      "text/plain": [
       "<Figure size 432x288 with 2 Axes>"
      ]
     },
     "metadata": {
      "needs_background": "light"
     },
     "output_type": "display_data"
    },
    {
     "name": "stdout",
     "output_type": "stream",
     "text": [
      "Accuracy Score:  0.9997180401440345\n",
      "Precision Score:  1.0\n",
      "Recall Score:  0.4146341463414634\n",
      "F1 Score:  0.5862068965517241\n",
      "AdaBoostClassifier()   0.9995216720331708\n"
     ]
    },
    {
     "data": {
      "image/png": "[encoded data removed]",
      "text/plain": [
       "<Figure size 432x288 with 2 Axes>"
      ]
     },
     "metadata": {
      "needs_background": "light"
     },
     "output_type": "display_data"
    },
    {
     "name": "stdout",
     "output_type": "stream",
     "text": [
      "Accuracy Score:  0.9994771994337306\n",
      "Precision Score:  0.0\n",
      "Recall Score:  0.0\n",
      "F1 Score:  0.0\n",
      "GradientBoostingClassifier()   0.9994788742677176\n"
     ]
    },
    {
     "data": {
      "image/png": "[encoded data removed]",
      "text/plain": [
       "<Figure size 432x288 with 2 Axes>"
      ]
     },
     "metadata": {
      "needs_background": "light"
     },
     "output_type": "display_data"
    },
    {
     "name": "stdout",
     "output_type": "stream",
     "text": [
      "Accuracy Score:  0.9993832128150755\n",
      "Precision Score:  0.10344827586206896\n",
      "Recall Score:  0.036585365853658534\n",
      "F1 Score:  0.05405405405405405\n",
      "GaussianNB()   0.8368524005770146\n"
     ]
    },
    {
     "data": {
      "image/png": "[encoded data removed]",
      "text/plain": [
       "<Figure size 432x288 with 2 Axes>"
      ]
     },
     "metadata": {
      "needs_background": "light"
     },
     "output_type": "display_data"
    },
    {
     "name": "stdout",
     "output_type": "stream",
     "text": [
      "Accuracy Score:  0.8367217467413077\n",
      "Precision Score:  0.002691645133505599\n",
      "Recall Score:  0.9146341463414634\n",
      "F1 Score:  0.005367494453589065\n",
      "CategoricalNB()   0.9901993117112309\n"
     ]
    },
    {
     "data": {
      "image/png": "[encoded data removed]",
      "text/plain": [
       "<Figure size 432x288 with 2 Axes>"
      ]
     },
     "metadata": {
      "needs_background": "light"
     },
     "output_type": "display_data"
    },
    {
     "name": "stdout",
     "output_type": "stream",
     "text": [
      "Accuracy Score:  0.9900902858955456\n",
      "Precision Score:  0.02486678507992895\n",
      "Recall Score:  0.5121951219512195\n",
      "F1 Score:  0.047430830039525695\n"
     ]
    }
   ],
   "source": [
    "model_opt(models, X, y, X_valid, y_valid) # this is the full model dataset"
   ]
  },
  {
   "cell_type": "markdown",
   "metadata": {},
   "source": [
    "### Out of the above models, Random Forest and Categorical Bayesian perform the best. Let's see if after applying feature selection if they continue to perform better than the other models. "
   ]
  },
  {
   "cell_type": "code",
   "execution_count": 49,
   "metadata": {},
   "outputs": [
    {
     "name": "stdout",
     "output_type": "stream",
     "text": [
      "RandomForestClassifier()   0.9996198551421516\n"
     ]
    },
    {
     "data": {
      "image/png": "[encoded data removed]",
      "text/plain": [
       "<Figure size 432x288 with 2 Axes>"
      ]
     },
     "metadata": {
      "needs_background": "light"
     },
     "output_type": "display_data"
    },
    {
     "name": "stdout",
     "output_type": "stream",
     "text": [
      "Accuracy Score:  0.9995065702520604\n",
      "Precision Score:  0.4375\n",
      "Recall Score:  0.08536585365853659\n",
      "F1 Score:  0.14285714285714288\n",
      "AdaBoostClassifier()   0.9995065669394815\n"
     ]
    },
    {
     "data": {
      "image/png": "[encoded data removed]",
      "text/plain": [
       "<Figure size 432x288 with 2 Axes>"
      ]
     },
     "metadata": {
      "needs_background": "light"
     },
     "output_type": "display_data"
    },
    {
     "name": "stdout",
     "output_type": "stream",
     "text": [
      "Accuracy Score:  0.9994771994337306\n",
      "Precision Score:  0.0\n",
      "Recall Score:  0.0\n",
      "F1 Score:  0.0\n",
      "GradientBoostingClassifier()   0.9994788742677176\n"
     ]
    },
    {
     "data": {
      "image/png": "[encoded data removed]",
      "text/plain": [
       "<Figure size 432x288 with 2 Axes>"
      ]
     },
     "metadata": {
      "needs_background": "light"
     },
     "output_type": "display_data"
    },
    {
     "name": "stdout",
     "output_type": "stream",
     "text": [
      "Accuracy Score:  0.9993832128150755\n",
      "Precision Score:  0.10344827586206896\n",
      "Recall Score:  0.036585365853658534\n",
      "F1 Score:  0.05405405405405405\n",
      "GaussianNB()   0.7723511330079025\n"
     ]
    },
    {
     "data": {
      "image/png": "[encoded data removed]",
      "text/plain": [
       "<Figure size 432x288 with 2 Axes>"
      ]
     },
     "metadata": {
      "needs_background": "light"
     },
     "output_type": "display_data"
    },
    {
     "name": "stdout",
     "output_type": "stream",
     "text": [
      "Accuracy Score:  0.7721000722522131\n",
      "Precision Score:  0.0020834940967667257\n",
      "Recall Score:  0.9878048780487805\n",
      "F1 Score:  0.0041582176133884334\n",
      "CategoricalNB()   0.9929887190125297\n"
     ]
    },
    {
     "data": {
      "image/png": "[encoded data removed]",
      "text/plain": [
       "<Figure size 432x288 with 2 Axes>"
      ]
     },
     "metadata": {
      "needs_background": "light"
     },
     "output_type": "display_data"
    },
    {
     "name": "stdout",
     "output_type": "stream",
     "text": [
      "Accuracy Score:  0.992757156199886\n",
      "Precision Score:  0.022406639004149378\n",
      "Recall Score:  0.32926829268292684\n",
      "F1 Score:  0.04195804195804196\n"
     ]
    }
   ],
   "source": [
    "model_opt(models, X2, y2, X_valid2, y_valid2) # this is the reduced feature set"
   ]
  },
  {
   "cell_type": "markdown",
   "metadata": {},
   "source": [
    "# Random Forest performed significantly worse with a reduced set of features, while Categorical Bayes went sideways, reducing overall false positives from ~ 1650 to ~1150 but also losing true positives. \n",
    "\n",
    "\n",
    "### These are the top features that indicate any amount of deaths was likely during an accident in Chicago area crashes.\n",
    "\n",
    "#### *EJECTION_TRAPPED/EXTRICATED (trapped within the vehicle requiring removal post-incident)\n",
    "#### *PRIM_CONTRIBUTORY_CAUSE_PHYSICAL CONDITION OF DRIVER (intoxication)\n",
    "#### *TRAFFICWAY_TYPE_Y-INTERSECTION (atypical traffic conditions)\n",
    "#### *FIRST_CRASH_TYPE_PEDESTRIAN (a pedestrian is involved)\n",
    "#### *CRASH_TYPE_INJURY AND / OR TOW DUE TO CRASH \n",
    "#### *AIRBAG_DEPLOYED_DEPLOYED, COMBINATION (higher speeds indicated)\n",
    "#### *EJECTION_TOTALLY EJECTED (completed thrown from vehicle)\n",
    "#### *SEC_CONTRIBUTORY_CAUSE_PHYSICAL CONDITION OF DRIVER (intoxication)"
   ]
  },
  {
   "cell_type": "code",
   "execution_count": 50,
   "metadata": {},
   "outputs": [],
   "source": [
    "# GridsearchCV and improving the full set Random Forest classifier\n",
    "# GridsearchCV and improving the partial set CategoricalNB classifier"
   ]
  },
  {
   "cell_type": "markdown",
   "metadata": {},
   "source": [
    "### Tuning Hyper-parameters for a random forest model and a categorical bayes model"
   ]
  },
  {
   "cell_type": "code",
   "execution_count": 51,
   "metadata": {},
   "outputs": [],
   "source": [
    "# create single item lists for input to model_opt and also gridsearchCV. \n",
    "selected_models = [ran_for, cat_bayes]"
   ]
  },
  {
   "cell_type": "code",
   "execution_count": 52,
   "metadata": {},
   "outputs": [
    {
     "name": "stdout",
     "output_type": "stream",
     "text": [
      "dict_keys(['bootstrap', 'ccp_alpha', 'class_weight', 'criterion', 'max_depth', 'max_features', 'max_leaf_nodes', 'max_samples', 'min_impurity_decrease', 'min_impurity_split', 'min_samples_leaf', 'min_samples_split', 'min_weight_fraction_leaf', 'n_estimators', 'n_jobs', 'oob_score', 'random_state', 'verbose', 'warm_start'])\n",
      "dict_keys(['alpha', 'class_prior', 'fit_prior'])\n"
     ]
    }
   ],
   "source": [
    "for model in selected_models:\n",
    "    print(model.get_params().keys())"
   ]
  },
  {
   "cell_type": "code",
   "execution_count": 53,
   "metadata": {},
   "outputs": [],
   "source": [
    "# pipe_random = Pipeline([\n",
    "#     ('select', SelectKBest()),\n",
    "#     ('model', ran_for)])\n",
    "# pipe_bayes = Pipeline([\n",
    "#     ('select', SelectKBest()),\n",
    "#     ('model', cat_bayes)])"
   ]
  },
  {
   "cell_type": "code",
   "execution_count": 91,
   "metadata": {},
   "outputs": [],
   "source": [
    "ran_for = RandomForestClassifier()\n",
    "cat_bayes = CategoricalNB()\n",
    "param_random = {\n",
    "    \"max_depth\": [3,4,5],\n",
    "    \"n_estimators\": [5,15,25],\n",
    "    \"max_leaf_nodes\": range(3,10,2)\n",
    "    }\n",
    "param_bayes = {\n",
    "    \"alpha\": [.05,.1,.2,.5,1,5,8,9,10,11,12,13,14],\n",
    "    }"
   ]
  },
  {
   "cell_type": "code",
   "execution_count": 92,
   "metadata": {},
   "outputs": [],
   "source": [
    "# need to improve on overall precision, so scoring for both models will be precision\n",
    "gsforest = GridSearchCV(estimator=ran_for, param_grid=param_random, cv=5, scoring='precision', \n",
    "                    verbose=1, n_jobs=6)\n",
    "gsbayes = GridSearchCV(cat_bayes, param_grid=param_bayes, cv=5, scoring='precision', \n",
    "                     verbose=1, n_jobs=6)"
   ]
  },
  {
   "cell_type": "code",
   "execution_count": 56,
   "metadata": {},
   "outputs": [
    {
     "name": "stdout",
     "output_type": "stream",
     "text": [
      "Fitting 5 folds for each of 36 candidates, totalling 180 fits\n"
     ]
    },
    {
     "name": "stderr",
     "output_type": "stream",
     "text": [
      "[Parallel(n_jobs=6)]: Using backend LokyBackend with 6 concurrent workers.\n",
      "[Parallel(n_jobs=6)]: Done  38 tasks      | elapsed:  1.4min\n",
      "[Parallel(n_jobs=6)]: Done 180 out of 180 | elapsed:  5.7min finished\n"
     ]
    },
    {
     "data": {
      "text/plain": [
       "GridSearchCV(cv=5, estimator=RandomForestClassifier(), n_jobs=6,\n",
       "             param_grid={'max_depth': [3, 4, 5],\n",
       "                         'max_leaf_nodes': range(3, 10, 2),\n",
       "                         'n_estimators': [5, 15, 25]},\n",
       "             scoring='precision', verbose=1)"
      ]
     },
     "execution_count": 56,
     "metadata": {},
     "output_type": "execute_result"
    }
   ],
   "source": [
    "# initial dataset\n",
    "gsforest.fit(X, y)"
   ]
  },
  {
   "cell_type": "code",
   "execution_count": 57,
   "metadata": {},
   "outputs": [
    {
     "data": {
      "text/plain": [
       "RandomForestClassifier(max_depth=3, max_leaf_nodes=3, n_estimators=5)"
      ]
     },
     "metadata": {},
     "output_type": "display_data"
    },
    {
     "data": {
      "text/plain": [
       "0.0"
      ]
     },
     "metadata": {},
     "output_type": "display_data"
    }
   ],
   "source": [
    "display(gsforest.best_estimator_)\n",
    "display(gsforest.best_score_)"
   ]
  },
  {
   "cell_type": "code",
   "execution_count": 58,
   "metadata": {},
   "outputs": [
    {
     "data": {
      "text/plain": [
       "RandomForestClassifier(max_depth=3, max_leaf_nodes=3, n_estimators=5)"
      ]
     },
     "execution_count": 58,
     "metadata": {},
     "output_type": "execute_result"
    }
   ],
   "source": [
    "gsforest_f1 = gsforest.best_estimator_\n",
    "gsforest_f1"
   ]
  },
  {
   "cell_type": "code",
   "execution_count": 59,
   "metadata": {},
   "outputs": [
    {
     "name": "stdout",
     "output_type": "stream",
     "text": [
      "0.9995342596112452\n",
      "0.9995183185793922\n"
     ]
    }
   ],
   "source": [
    "print(gsforest_f1.score(X, y))\n",
    "print(gsforest_f1.score(X_valid, y_valid))"
   ]
  },
  {
   "cell_type": "code",
   "execution_count": 60,
   "metadata": {},
   "outputs": [
    {
     "data": {
      "text/plain": [
       "RandomForestClassifier(max_depth=3, max_leaf_nodes=3, n_estimators=5)"
      ]
     },
     "execution_count": 60,
     "metadata": {},
     "output_type": "execute_result"
    }
   ],
   "source": [
    "gsforest_f1.fit(X, y)"
   ]
  },
  {
   "cell_type": "code",
   "execution_count": 61,
   "metadata": {},
   "outputs": [
    {
     "data": {
      "text/plain": [
       "0"
      ]
     },
     "execution_count": 61,
     "metadata": {},
     "output_type": "execute_result"
    }
   ],
   "source": [
    "y_preds = gsforest_f1.predict(X_valid)\n",
    "sum(y_preds)"
   ]
  },
  {
   "cell_type": "code",
   "execution_count": 62,
   "metadata": {},
   "outputs": [
    {
     "data": {
      "image/png": "[encoded data removed]",
      "text/plain": [
       "<Figure size 432x288 with 2 Axes>"
      ]
     },
     "metadata": {
      "needs_background": "light"
     },
     "output_type": "display_data"
    }
   ],
   "source": [
    "plot_confusion_matrix(gsforest_f1, X_valid, y_valid, cmap='rocket', values_format='1')\n",
    "plt.show() # model is not predicting any fatalities at all"
   ]
  },
  {
   "cell_type": "code",
   "execution_count": null,
   "metadata": {},
   "outputs": [],
   "source": []
  },
  {
   "cell_type": "code",
   "execution_count": 63,
   "metadata": {
    "scrolled": true
   },
   "outputs": [
    {
     "name": "stdout",
     "output_type": "stream",
     "text": [
      "Fitting 5 folds for each of 36 candidates, totalling 180 fits\n"
     ]
    },
    {
     "name": "stderr",
     "output_type": "stream",
     "text": [
      "[Parallel(n_jobs=6)]: Using backend LokyBackend with 6 concurrent workers.\n",
      "[Parallel(n_jobs=6)]: Done  38 tasks      | elapsed:   21.8s\n",
      "[Parallel(n_jobs=6)]: Done 180 out of 180 | elapsed:  1.7min finished\n"
     ]
    },
    {
     "data": {
      "text/plain": [
       "GridSearchCV(cv=5, estimator=RandomForestClassifier(), n_jobs=6,\n",
       "             param_grid={'max_depth': [3, 4, 5],\n",
       "                         'max_leaf_nodes': range(3, 10, 2),\n",
       "                         'n_estimators': [5, 15, 25]},\n",
       "             scoring='precision', verbose=1)"
      ]
     },
     "execution_count": 63,
     "metadata": {},
     "output_type": "execute_result"
    }
   ],
   "source": [
    "gsforest.fit(X2, y2)"
   ]
  },
  {
   "cell_type": "code",
   "execution_count": 64,
   "metadata": {},
   "outputs": [
    {
     "data": {
      "text/plain": [
       "RandomForestClassifier(max_depth=3, max_leaf_nodes=3, n_estimators=5)"
      ]
     },
     "execution_count": 64,
     "metadata": {},
     "output_type": "execute_result"
    }
   ],
   "source": [
    "gsforest_high_precision_partial = gsforest.best_estimator_\n",
    "gsforest_high_precision_partial"
   ]
  },
  {
   "cell_type": "code",
   "execution_count": 65,
   "metadata": {},
   "outputs": [
    {
     "data": {
      "text/plain": [
       "RandomForestClassifier(max_depth=3, max_leaf_nodes=3, n_estimators=5)"
      ]
     },
     "execution_count": 65,
     "metadata": {},
     "output_type": "execute_result"
    }
   ],
   "source": [
    "gsforest_high_precision_partial.fit(X2, y2)"
   ]
  },
  {
   "cell_type": "code",
   "execution_count": 89,
   "metadata": {},
   "outputs": [],
   "source": [
    "rcf_new = RandomForestClassifier(max_depth=3, max_leaf_nodes=3, n_estimators=5)\n",
    "rcf_new.fit(X2, y2)\n",
    "y_preds2 = rcf_new.predict(X_valid2)"
   ]
  },
  {
   "cell_type": "code",
   "execution_count": 90,
   "metadata": {},
   "outputs": [
    {
     "data": {
      "image/png": "[encoded data removed]",
      "text/plain": [
       "<Figure size 432x288 with 2 Axes>"
      ]
     },
     "metadata": {
      "needs_background": "light"
     },
     "output_type": "display_data"
    }
   ],
   "source": [
    "plot_confusion_matrix(rcf_new, X_valid2, y_valid2, cmap='rocket', values_format='1')\n",
    "plt.show() # model is not predicting any fatalities at all - how do I make it so I dont predict so many zeros here?"
   ]
  },
  {
   "cell_type": "code",
   "execution_count": 95,
   "metadata": {},
   "outputs": [
    {
     "data": {
      "text/plain": [
       "CategoricalNB(alpha=10)"
      ]
     },
     "execution_count": 95,
     "metadata": {},
     "output_type": "execute_result"
    }
   ],
   "source": [
    "cat_bayes = CategoricalNB(alpha=10)\n",
    "cat_bayes.fit(X2, y2)\n"
   ]
  },
  {
   "cell_type": "code",
   "execution_count": 96,
   "metadata": {},
   "outputs": [],
   "source": [
    "y_valid2_preds = cat_bayes.predict(X_valid2)"
   ]
  },
  {
   "cell_type": "code",
   "execution_count": 98,
   "metadata": {},
   "outputs": [
    {
     "data": {
      "image/png": "[encoded data removed]",
      "text/plain": [
       "<Figure size 432x288 with 2 Axes>"
      ]
     },
     "metadata": {
      "needs_background": "light"
     },
     "output_type": "display_data"
    }
   ],
   "source": [
    "plot_confusion_matrix(cat_bayes, X_valid2, y_valid2, cmap='rocket', values_format='1')\n",
    "plt.show() # decently pleased with this model, but I want to do better as well as count feature\n",
    "# occurrence in accidents with fatalities"
   ]
  },
  {
   "cell_type": "code",
   "execution_count": null,
   "metadata": {},
   "outputs": [],
   "source": []
  },
  {
   "cell_type": "code",
   "execution_count": null,
   "metadata": {},
   "outputs": [],
   "source": []
  },
  {
   "cell_type": "code",
   "execution_count": null,
   "metadata": {},
   "outputs": [],
   "source": []
  },
  {
   "cell_type": "code",
   "execution_count": null,
   "metadata": {},
   "outputs": [],
   "source": []
  },
  {
   "cell_type": "code",
   "execution_count": null,
   "metadata": {
    "scrolled": false
   },
   "outputs": [],
   "source": [
    "print(gsforest_high_precision.score(X, y)) # full feature set\n",
    "print(gsforest_high_precision_partial.score(X2, y2)) # top 18 feature set\n",
    "print(gsbayes_high_precision_partial.score(X2, y2)) # top 18 feature set"
   ]
  },
  {
   "cell_type": "code",
   "execution_count": null,
   "metadata": {},
   "outputs": [],
   "source": [
    "# going to plot and analyze forest_partial_best confusion matrix\n",
    "# as well as gsbayes_partial confusion matrix"
   ]
  },
  {
   "cell_type": "code",
   "execution_count": null,
   "metadata": {},
   "outputs": [],
   "source": [
    "# predict on gsforest_high_precision full set \n",
    "forest_y_preds = gsforest_high_precision.predict(X_valid)\n",
    "# define forest_partial model y predict \n",
    "forest_partial_y_preds = gsforest_high_precision_partial.predict(X_valid2)\n",
    "# define bayes_partial model y predict\n",
    "bayes_partial_y_preds = gsbayes_high_precision_partial.predict(X_valid2)\n",
    "final_models = [forest_y_preds, forest_partial_y_preds, bayes_partial_y_preds]"
   ]
  },
  {
   "cell_type": "code",
   "execution_count": null,
   "metadata": {},
   "outputs": [],
   "source": [
    "def plot_confusion(ytrue, ypred):\n",
    "    cm_norm = confusion_matrix(ytrue, ypred, normalize='true')\n",
    "    sns.heatmap(cm_norm, cmap=sns.color_palette('Blues'), fmt='{:.2f}', annot=True, annot_kws={\"va\":\"bottom\"})\n",
    "    cm = confusion_matrix(ytrue, ypred)\n",
    "    sns.heatmap(cm, cmap=sns.color_palette('Blues'), fmt='{:.2f}', annot=True, annot_kws={\"va\":\"top\"})\n",
    "    plt.show()"
   ]
  },
  {
   "cell_type": "code",
   "execution_count": null,
   "metadata": {},
   "outputs": [],
   "source": []
  },
  {
   "cell_type": "code",
   "execution_count": null,
   "metadata": {},
   "outputs": [],
   "source": []
  },
  {
   "cell_type": "code",
   "execution_count": null,
   "metadata": {},
   "outputs": [],
   "source": []
  },
  {
   "cell_type": "code",
   "execution_count": null,
   "metadata": {},
   "outputs": [],
   "source": []
  },
  {
   "cell_type": "code",
   "execution_count": null,
   "metadata": {},
   "outputs": [],
   "source": []
  },
  {
   "cell_type": "code",
   "execution_count": null,
   "metadata": {},
   "outputs": [],
   "source": []
  },
  {
   "cell_type": "code",
   "execution_count": null,
   "metadata": {},
   "outputs": [],
   "source": []
  },
  {
   "cell_type": "code",
   "execution_count": null,
   "metadata": {},
   "outputs": [],
   "source": [
    "def model_scoring(models, )\n",
    "for model in models:\n",
    "    train_score = model.score(x_train_resampled, y_train_resampled)\n",
    "    test_score = model.score(x_test, y_test)\n",
    "    avg_score = (train_score + test_score)/2\n",
    "    print(model ,train_score, test_score, avg_score)"
   ]
  },
  {
   "cell_type": "code",
   "execution_count": null,
   "metadata": {},
   "outputs": [],
   "source": [
    "def evaluate_test_data(logreg, df_test, feature_for_modeling, target='y'):\n",
    "    df_test = transform_dataframe(df_test)\n",
    "    X = df_test[feature_for_modeling]\n",
    "    y = df_test[target]\n",
    "    score = logreg.score(X, y)\n",
    "    print(f\"Score of model = {score}\")\n",
    "    y_pred = logreg.predict(X)\n",
    "    plot_confusion(y, y_pred)\n",
    "    pass\n",
    "\n",
    "evaluate_test_data(cat_bayes,df_test=df_valid, feature_for_modeling=feature_list)"
   ]
  },
  {
   "cell_type": "code",
   "execution_count": null,
   "metadata": {},
   "outputs": [],
   "source": [
    "def cost_benefit_analysis(model, X_test, y_test):\n",
    "    y_preds = model.predict(X_test)\n",
    "    label_dict = {\"TP\":0, \"FP\": 0, \"TN\": 0, \"FN\": 0}\n",
    "    for yt, yp in zip(y_test, y_preds):\n",
    "        if yt==yp:\n",
    "            if yt==1:\n",
    "                label_dict[\"TP\"] += 1\n",
    "            else:\n",
    "                label_dict[\"TN\"] += 1\n",
    "        else:\n",
    "            if yp==1:\n",
    "                label_dict[\"FP\"] += 1\n",
    "            else:\n",
    "                label_dict[\"FN\"] += 1\n",
    "    cb_dict = {\"TP\": 50, \"FP\": -10, \"TN\": 0, \"FN\": -60}\n",
    "    total = 0\n",
    "    for key in label_dict.keys():\n",
    "        total += cb_dict[key]*label_dict[key]\n",
    "    return total / sum(label_dict.values())"
   ]
  },
  {
   "cell_type": "code",
   "execution_count": null,
   "metadata": {},
   "outputs": [],
   "source": []
  },
  {
   "cell_type": "code",
   "execution_count": null,
   "metadata": {},
   "outputs": [],
   "source": []
  },
  {
   "cell_type": "code",
   "execution_count": null,
   "metadata": {},
   "outputs": [],
   "source": []
  },
  {
   "cell_type": "code",
   "execution_count": null,
   "metadata": {},
   "outputs": [],
   "source": []
  },
  {
   "cell_type": "code",
   "execution_count": null,
   "metadata": {},
   "outputs": [],
   "source": []
  },
  {
   "cell_type": "code",
   "execution_count": null,
   "metadata": {},
   "outputs": [],
   "source": []
  },
  {
   "cell_type": "code",
   "execution_count": null,
   "metadata": {},
   "outputs": [],
   "source": []
  },
  {
   "cell_type": "code",
   "execution_count": null,
   "metadata": {},
   "outputs": [],
   "source": []
  },
  {
   "cell_type": "code",
   "execution_count": null,
   "metadata": {},
   "outputs": [],
   "source": []
  },
  {
   "cell_type": "code",
   "execution_count": null,
   "metadata": {},
   "outputs": [],
   "source": []
  }
 ],
 "metadata": {
  "kernelspec": {
   "display_name": "Python 3",
   "language": "python",
   "name": "python3"
  },
  "language_info": {
   "codemirror_mode": {
    "name": "ipython",
    "version": 3
   },
   "file_extension": ".py",
   "mimetype": "text/x-python",
   "name": "python",
   "nbconvert_exporter": "python",
   "pygments_lexer": "ipython3",
   "version": "3.8.3"
  }
 },
 "nbformat": 4,
 "nbformat_minor": 4
}
