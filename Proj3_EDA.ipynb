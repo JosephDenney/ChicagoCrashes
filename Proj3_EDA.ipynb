{
 "cells": [
  {
   "cell_type": "code",
   "execution_count": 2,
   "metadata": {},
   "outputs": [],
   "source": [
    "import pandas as pd\n",
    "import numpy as np \n",
    "import csv\n",
    "\n",
    "from math import sqrt\n",
    "\n",
    "import matplotlib.pyplot as plt\n",
    "import seaborn as sns\n",
    "\n",
    "from edafunctions import df_remove_columns_threshold as rmcol\n",
    "from edafunctions import df_merge_dataframes_left as merle"
   ]
  },
  {
   "cell_type": "markdown",
   "metadata": {},
   "source": [
    "## Basic Data Import and Cleaning"
   ]
  },
  {
   "cell_type": "code",
   "execution_count": 3,
   "metadata": {},
   "outputs": [],
   "source": [
    "dfvehicles = pd.read_csv(r\"data/TrafficCrashes-Vehicle.csv\", low_memory=False)"
   ]
  },
  {
   "cell_type": "code",
   "execution_count": 4,
   "metadata": {},
   "outputs": [],
   "source": [
    "dfvehicles = rmcol(dfvehicles)"
   ]
  },
  {
   "cell_type": "code",
   "execution_count": 5,
   "metadata": {},
   "outputs": [
    {
     "name": "stdout",
     "output_type": "stream",
     "text": [
      "<class 'pandas.core.frame.DataFrame'>\n",
      "RangeIndex: 925738 entries, 0 to 925737\n",
      "Data columns (total 16 columns):\n",
      " #   Column               Non-Null Count   Dtype  \n",
      "---  ------               --------------   -----  \n",
      " 0   CRASH_UNIT_ID        925738 non-null  int64  \n",
      " 1   CRASH_RECORD_ID      925738 non-null  object \n",
      " 2   RD_NO                918507 non-null  object \n",
      " 3   CRASH_DATE           925738 non-null  object \n",
      " 4   UNIT_NO              925738 non-null  int64  \n",
      " 5   UNIT_TYPE            924349 non-null  object \n",
      " 6   VEHICLE_ID           904074 non-null  float64\n",
      " 7   MAKE                 904069 non-null  object \n",
      " 8   MODEL                903927 non-null  object \n",
      " 9   VEHICLE_DEFECT       904074 non-null  object \n",
      " 10  VEHICLE_TYPE         904074 non-null  object \n",
      " 11  VEHICLE_USE          904074 non-null  object \n",
      " 12  TRAVEL_DIRECTION     904074 non-null  object \n",
      " 13  MANEUVER             904074 non-null  object \n",
      " 14  OCCUPANT_CNT         904074 non-null  float64\n",
      " 15  FIRST_CONTACT_POINT  898669 non-null  object \n",
      "dtypes: float64(2), int64(2), object(12)\n",
      "memory usage: 113.0+ MB\n"
     ]
    }
   ],
   "source": [
    "dfvehicles.info()"
   ]
  },
  {
   "cell_type": "code",
   "execution_count": 6,
   "metadata": {},
   "outputs": [],
   "source": [
    "dfcrash = pd.read_csv(r\"data/TrafficCrashes-Crashes.csv\", low_memory=False)"
   ]
  },
  {
   "cell_type": "code",
   "execution_count": 7,
   "metadata": {},
   "outputs": [],
   "source": [
    "dfcrash = rmcol(dfcrash)"
   ]
  },
  {
   "cell_type": "code",
   "execution_count": 8,
   "metadata": {},
   "outputs": [
    {
     "name": "stdout",
     "output_type": "stream",
     "text": [
      "<class 'pandas.core.frame.DataFrame'>\n",
      "RangeIndex: 453873 entries, 0 to 453872\n",
      "Data columns (total 38 columns):\n",
      " #   Column                         Non-Null Count   Dtype  \n",
      "---  ------                         --------------   -----  \n",
      " 0   CRASH_RECORD_ID                453873 non-null  object \n",
      " 1   RD_NO                          450376 non-null  object \n",
      " 2   CRASH_DATE                     453873 non-null  object \n",
      " 3   POSTED_SPEED_LIMIT             453873 non-null  int64  \n",
      " 4   TRAFFIC_CONTROL_DEVICE         453873 non-null  object \n",
      " 5   DEVICE_CONDITION               453873 non-null  object \n",
      " 6   WEATHER_CONDITION              453873 non-null  object \n",
      " 7   LIGHTING_CONDITION             453873 non-null  object \n",
      " 8   FIRST_CRASH_TYPE               453873 non-null  object \n",
      " 9   TRAFFICWAY_TYPE                453873 non-null  object \n",
      " 10  ALIGNMENT                      453873 non-null  object \n",
      " 11  ROADWAY_SURFACE_COND           453873 non-null  object \n",
      " 12  ROAD_DEFECT                    453873 non-null  object \n",
      " 13  REPORT_TYPE                    443012 non-null  object \n",
      " 14  CRASH_TYPE                     453873 non-null  object \n",
      " 15  DAMAGE                         453873 non-null  object \n",
      " 16  DATE_POLICE_NOTIFIED           453873 non-null  object \n",
      " 17  PRIM_CONTRIBUTORY_CAUSE        453873 non-null  object \n",
      " 18  SEC_CONTRIBUTORY_CAUSE         453873 non-null  object \n",
      " 19  STREET_NO                      453873 non-null  int64  \n",
      " 20  STREET_DIRECTION               453870 non-null  object \n",
      " 21  STREET_NAME                    453872 non-null  object \n",
      " 22  BEAT_OF_OCCURRENCE             453868 non-null  float64\n",
      " 23  NUM_UNITS                      453873 non-null  int64  \n",
      " 24  MOST_SEVERE_INJURY             452971 non-null  object \n",
      " 25  INJURIES_TOTAL                 452981 non-null  float64\n",
      " 26  INJURIES_FATAL                 452981 non-null  float64\n",
      " 27  INJURIES_INCAPACITATING        452981 non-null  float64\n",
      " 28  INJURIES_NON_INCAPACITATING    452981 non-null  float64\n",
      " 29  INJURIES_REPORTED_NOT_EVIDENT  452981 non-null  float64\n",
      " 30  INJURIES_NO_INDICATION         452981 non-null  float64\n",
      " 31  INJURIES_UNKNOWN               452981 non-null  float64\n",
      " 32  CRASH_HOUR                     453873 non-null  int64  \n",
      " 33  CRASH_DAY_OF_WEEK              453873 non-null  int64  \n",
      " 34  CRASH_MONTH                    453873 non-null  int64  \n",
      " 35  LATITUDE                       451411 non-null  float64\n",
      " 36  LONGITUDE                      451411 non-null  float64\n",
      " 37  LOCATION                       451411 non-null  object \n",
      "dtypes: float64(10), int64(6), object(22)\n",
      "memory usage: 131.6+ MB\n"
     ]
    }
   ],
   "source": [
    "dfcrash.info()"
   ]
  },
  {
   "cell_type": "code",
   "execution_count": 9,
   "metadata": {},
   "outputs": [],
   "source": [
    "dfpeople = pd.read_csv(r\"data/TrafficCrashes-People.csv\", low_memory=False)"
   ]
  },
  {
   "cell_type": "code",
   "execution_count": 10,
   "metadata": {},
   "outputs": [],
   "source": [
    "dfpeople = rmcol(dfpeople)"
   ]
  },
  {
   "cell_type": "code",
   "execution_count": 11,
   "metadata": {},
   "outputs": [
    {
     "name": "stdout",
     "output_type": "stream",
     "text": [
      "<class 'pandas.core.frame.DataFrame'>\n",
      "RangeIndex: 1006093 entries, 0 to 1006092\n",
      "Data columns (total 11 columns):\n",
      " #   Column                 Non-Null Count    Dtype  \n",
      "---  ------                 --------------    -----  \n",
      " 0   PERSON_ID              1006093 non-null  object \n",
      " 1   PERSON_TYPE            1006093 non-null  object \n",
      " 2   CRASH_RECORD_ID        1006093 non-null  object \n",
      " 3   RD_NO                  998607 non-null   object \n",
      " 4   VEHICLE_ID             985919 non-null   float64\n",
      " 5   CRASH_DATE             1006093 non-null  object \n",
      " 6   SEX                    991169 non-null   object \n",
      " 7   SAFETY_EQUIPMENT       1003090 non-null  object \n",
      " 8   AIRBAG_DEPLOYED        986732 non-null   object \n",
      " 9   EJECTION               993588 non-null   object \n",
      " 10  INJURY_CLASSIFICATION  1005547 non-null  object \n",
      "dtypes: float64(1), object(10)\n",
      "memory usage: 84.4+ MB\n"
     ]
    }
   ],
   "source": [
    "dfpeople.info()"
   ]
  },
  {
   "cell_type": "markdown",
   "metadata": {},
   "source": [
    "## Create a merged data table on CRASH_RECORD_ID"
   ]
  },
  {
   "cell_type": "code",
   "execution_count": 12,
   "metadata": {},
   "outputs": [],
   "source": [
    "merge = 'CRASH_RECORD_ID'"
   ]
  },
  {
   "cell_type": "code",
   "execution_count": 13,
   "metadata": {},
   "outputs": [],
   "source": [
    "dfmerge = pd.merge(dfvehicles, dfcrash, how='left', on=merge)"
   ]
  },
  {
   "cell_type": "code",
   "execution_count": 21,
   "metadata": {},
   "outputs": [
    {
     "data": {
      "text/html": [
       "<div>\n",
       "<style scoped>\n",
       "    .dataframe tbody tr th:only-of-type {\n",
       "        vertical-align: middle;\n",
       "    }\n",
       "\n",
       "    .dataframe tbody tr th {\n",
       "        vertical-align: top;\n",
       "    }\n",
       "\n",
       "    .dataframe thead th {\n",
       "        text-align: right;\n",
       "    }\n",
       "</style>\n",
       "<table border=\"1\" class=\"dataframe\">\n",
       "  <thead>\n",
       "    <tr style=\"text-align: right;\">\n",
       "      <th></th>\n",
       "      <th>CRASH_UNIT_ID</th>\n",
       "      <th>CRASH_RECORD_ID</th>\n",
       "      <th>RD_NO_x</th>\n",
       "      <th>CRASH_DATE_x</th>\n",
       "      <th>UNIT_NO</th>\n",
       "      <th>UNIT_TYPE</th>\n",
       "      <th>VEHICLE_ID</th>\n",
       "      <th>MAKE</th>\n",
       "      <th>MODEL</th>\n",
       "      <th>VEHICLE_DEFECT</th>\n",
       "      <th>...</th>\n",
       "      <th>INJURIES_NON_INCAPACITATING</th>\n",
       "      <th>INJURIES_REPORTED_NOT_EVIDENT</th>\n",
       "      <th>INJURIES_NO_INDICATION</th>\n",
       "      <th>INJURIES_UNKNOWN</th>\n",
       "      <th>CRASH_HOUR</th>\n",
       "      <th>CRASH_DAY_OF_WEEK</th>\n",
       "      <th>CRASH_MONTH</th>\n",
       "      <th>LATITUDE</th>\n",
       "      <th>LONGITUDE</th>\n",
       "      <th>LOCATION</th>\n",
       "    </tr>\n",
       "  </thead>\n",
       "  <tbody>\n",
       "    <tr>\n",
       "      <th>0</th>\n",
       "      <td>10</td>\n",
       "      <td>2e31858c0e411f0bdcb337fb7c415aa93763cf2f23e02f...</td>\n",
       "      <td>HY368708</td>\n",
       "      <td>08/04/2015 12:40:00 PM</td>\n",
       "      <td>1</td>\n",
       "      <td>DRIVER</td>\n",
       "      <td>10.0</td>\n",
       "      <td>FORD</td>\n",
       "      <td>Focus</td>\n",
       "      <td>NONE</td>\n",
       "      <td>...</td>\n",
       "      <td>0.0</td>\n",
       "      <td>0.0</td>\n",
       "      <td>2.0</td>\n",
       "      <td>0.0</td>\n",
       "      <td>12</td>\n",
       "      <td>3</td>\n",
       "      <td>8</td>\n",
       "      <td>41.903416</td>\n",
       "      <td>-87.656037</td>\n",
       "      <td>POINT (-87.65603711678 41.903416088848)</td>\n",
       "    </tr>\n",
       "    <tr>\n",
       "      <th>1</th>\n",
       "      <td>100</td>\n",
       "      <td>e73b35bd7651b0c6693162bee0666db159b28901437009...</td>\n",
       "      <td>HY374018</td>\n",
       "      <td>07/31/2015 05:50:00 PM</td>\n",
       "      <td>1</td>\n",
       "      <td>DRIVER</td>\n",
       "      <td>96.0</td>\n",
       "      <td>NISSAN</td>\n",
       "      <td>Pathfinder</td>\n",
       "      <td>NONE</td>\n",
       "      <td>...</td>\n",
       "      <td>0.0</td>\n",
       "      <td>0.0</td>\n",
       "      <td>2.0</td>\n",
       "      <td>0.0</td>\n",
       "      <td>17</td>\n",
       "      <td>6</td>\n",
       "      <td>7</td>\n",
       "      <td>41.848588</td>\n",
       "      <td>-87.618689</td>\n",
       "      <td>POINT (-87.618688565091 41.848587734205)</td>\n",
       "    </tr>\n",
       "    <tr>\n",
       "      <th>2</th>\n",
       "      <td>1000</td>\n",
       "      <td>f2b1adeb85a15112e4fb7db74bff440d6ca53ff7a21e10...</td>\n",
       "      <td>HY407431</td>\n",
       "      <td>09/02/2015 11:45:00 AM</td>\n",
       "      <td>1</td>\n",
       "      <td>DRIVER</td>\n",
       "      <td>954.0</td>\n",
       "      <td>FORD</td>\n",
       "      <td>F150</td>\n",
       "      <td>UNKNOWN</td>\n",
       "      <td>...</td>\n",
       "      <td>0.0</td>\n",
       "      <td>0.0</td>\n",
       "      <td>2.0</td>\n",
       "      <td>0.0</td>\n",
       "      <td>11</td>\n",
       "      <td>4</td>\n",
       "      <td>9</td>\n",
       "      <td>41.904034</td>\n",
       "      <td>-87.629923</td>\n",
       "      <td>POINT (-87.629922816094 41.904033653296)</td>\n",
       "    </tr>\n",
       "    <tr>\n",
       "      <th>3</th>\n",
       "      <td>10000</td>\n",
       "      <td>15a3e24fce3ce7cd2b02d44013d1a93ff2fbdca80632ec...</td>\n",
       "      <td>HY484148</td>\n",
       "      <td>10/31/2015 09:30:00 PM</td>\n",
       "      <td>2</td>\n",
       "      <td>DRIVER</td>\n",
       "      <td>9561.0</td>\n",
       "      <td>HYUNDAI</td>\n",
       "      <td>SONATA</td>\n",
       "      <td>NONE</td>\n",
       "      <td>...</td>\n",
       "      <td>0.0</td>\n",
       "      <td>0.0</td>\n",
       "      <td>3.0</td>\n",
       "      <td>0.0</td>\n",
       "      <td>21</td>\n",
       "      <td>7</td>\n",
       "      <td>10</td>\n",
       "      <td>41.997388</td>\n",
       "      <td>-87.703231</td>\n",
       "      <td>POINT (-87.703230530375 41.997388252633)</td>\n",
       "    </tr>\n",
       "    <tr>\n",
       "      <th>4</th>\n",
       "      <td>100000</td>\n",
       "      <td>1d3c178880366c77deaf06b8c3198429112a1c8e8807ed...</td>\n",
       "      <td>HZ518934</td>\n",
       "      <td>11/16/2016 01:00:00 PM</td>\n",
       "      <td>2</td>\n",
       "      <td>PARKED</td>\n",
       "      <td>96745.0</td>\n",
       "      <td>TOYOTA MOTOR COMPANY, LTD.</td>\n",
       "      <td>RAV4 (sport utility)</td>\n",
       "      <td>UNKNOWN</td>\n",
       "      <td>...</td>\n",
       "      <td>0.0</td>\n",
       "      <td>0.0</td>\n",
       "      <td>1.0</td>\n",
       "      <td>0.0</td>\n",
       "      <td>13</td>\n",
       "      <td>4</td>\n",
       "      <td>11</td>\n",
       "      <td>41.963016</td>\n",
       "      <td>-87.652501</td>\n",
       "      <td>POINT (-87.652501464712 41.963015663194)</td>\n",
       "    </tr>\n",
       "  </tbody>\n",
       "</table>\n",
       "<p>5 rows × 53 columns</p>\n",
       "</div>"
      ],
      "text/plain": [
       "   CRASH_UNIT_ID                                    CRASH_RECORD_ID   RD_NO_x  \\\n",
       "0             10  2e31858c0e411f0bdcb337fb7c415aa93763cf2f23e02f...  HY368708   \n",
       "1            100  e73b35bd7651b0c6693162bee0666db159b28901437009...  HY374018   \n",
       "2           1000  f2b1adeb85a15112e4fb7db74bff440d6ca53ff7a21e10...  HY407431   \n",
       "3          10000  15a3e24fce3ce7cd2b02d44013d1a93ff2fbdca80632ec...  HY484148   \n",
       "4         100000  1d3c178880366c77deaf06b8c3198429112a1c8e8807ed...  HZ518934   \n",
       "\n",
       "             CRASH_DATE_x  UNIT_NO UNIT_TYPE  VEHICLE_ID  \\\n",
       "0  08/04/2015 12:40:00 PM        1    DRIVER        10.0   \n",
       "1  07/31/2015 05:50:00 PM        1    DRIVER        96.0   \n",
       "2  09/02/2015 11:45:00 AM        1    DRIVER       954.0   \n",
       "3  10/31/2015 09:30:00 PM        2    DRIVER      9561.0   \n",
       "4  11/16/2016 01:00:00 PM        2    PARKED     96745.0   \n",
       "\n",
       "                         MAKE                 MODEL VEHICLE_DEFECT  ...  \\\n",
       "0                        FORD                 Focus           NONE  ...   \n",
       "1                      NISSAN            Pathfinder           NONE  ...   \n",
       "2                        FORD                  F150        UNKNOWN  ...   \n",
       "3                     HYUNDAI                SONATA           NONE  ...   \n",
       "4  TOYOTA MOTOR COMPANY, LTD.  RAV4 (sport utility)        UNKNOWN  ...   \n",
       "\n",
       "  INJURIES_NON_INCAPACITATING INJURIES_REPORTED_NOT_EVIDENT  \\\n",
       "0                         0.0                           0.0   \n",
       "1                         0.0                           0.0   \n",
       "2                         0.0                           0.0   \n",
       "3                         0.0                           0.0   \n",
       "4                         0.0                           0.0   \n",
       "\n",
       "  INJURIES_NO_INDICATION INJURIES_UNKNOWN  CRASH_HOUR CRASH_DAY_OF_WEEK  \\\n",
       "0                    2.0              0.0          12                 3   \n",
       "1                    2.0              0.0          17                 6   \n",
       "2                    2.0              0.0          11                 4   \n",
       "3                    3.0              0.0          21                 7   \n",
       "4                    1.0              0.0          13                 4   \n",
       "\n",
       "  CRASH_MONTH   LATITUDE  LONGITUDE                                  LOCATION  \n",
       "0           8  41.903416 -87.656037   POINT (-87.65603711678 41.903416088848)  \n",
       "1           7  41.848588 -87.618689  POINT (-87.618688565091 41.848587734205)  \n",
       "2           9  41.904034 -87.629923  POINT (-87.629922816094 41.904033653296)  \n",
       "3          10  41.997388 -87.703231  POINT (-87.703230530375 41.997388252633)  \n",
       "4          11  41.963016 -87.652501  POINT (-87.652501464712 41.963015663194)  \n",
       "\n",
       "[5 rows x 53 columns]"
      ]
     },
     "execution_count": 21,
     "metadata": {},
     "output_type": "execute_result"
    }
   ],
   "source": [
    "dfmerge.head()"
   ]
  },
  {
   "cell_type": "code",
   "execution_count": 22,
   "metadata": {},
   "outputs": [],
   "source": [
    "dfmerged = pd.merge(dfmerge, dfpeople, how='left', on=merge)"
   ]
  },
  {
   "cell_type": "code",
   "execution_count": 23,
   "metadata": {
    "scrolled": true
   },
   "outputs": [
    {
     "data": {
      "text/html": [
       "<div>\n",
       "<style scoped>\n",
       "    .dataframe tbody tr th:only-of-type {\n",
       "        vertical-align: middle;\n",
       "    }\n",
       "\n",
       "    .dataframe tbody tr th {\n",
       "        vertical-align: top;\n",
       "    }\n",
       "\n",
       "    .dataframe thead th {\n",
       "        text-align: right;\n",
       "    }\n",
       "</style>\n",
       "<table border=\"1\" class=\"dataframe\">\n",
       "  <thead>\n",
       "    <tr style=\"text-align: right;\">\n",
       "      <th></th>\n",
       "      <th>CRASH_UNIT_ID</th>\n",
       "      <th>UNIT_NO</th>\n",
       "      <th>VEHICLE_ID_x</th>\n",
       "      <th>OCCUPANT_CNT</th>\n",
       "      <th>POSTED_SPEED_LIMIT</th>\n",
       "      <th>STREET_NO</th>\n",
       "      <th>BEAT_OF_OCCURRENCE</th>\n",
       "      <th>NUM_UNITS</th>\n",
       "      <th>INJURIES_TOTAL</th>\n",
       "      <th>INJURIES_FATAL</th>\n",
       "      <th>...</th>\n",
       "      <th>INJURIES_NON_INCAPACITATING</th>\n",
       "      <th>INJURIES_REPORTED_NOT_EVIDENT</th>\n",
       "      <th>INJURIES_NO_INDICATION</th>\n",
       "      <th>INJURIES_UNKNOWN</th>\n",
       "      <th>CRASH_HOUR</th>\n",
       "      <th>CRASH_DAY_OF_WEEK</th>\n",
       "      <th>CRASH_MONTH</th>\n",
       "      <th>LATITUDE</th>\n",
       "      <th>LONGITUDE</th>\n",
       "      <th>VEHICLE_ID_y</th>\n",
       "    </tr>\n",
       "  </thead>\n",
       "  <tbody>\n",
       "    <tr>\n",
       "      <th>count</th>\n",
       "      <td>2.115954e+06</td>\n",
       "      <td>2.115954e+06</td>\n",
       "      <td>2.065023e+06</td>\n",
       "      <td>2.065023e+06</td>\n",
       "      <td>2.115954e+06</td>\n",
       "      <td>2.115954e+06</td>\n",
       "      <td>2.115930e+06</td>\n",
       "      <td>2.115954e+06</td>\n",
       "      <td>2.114418e+06</td>\n",
       "      <td>2.114418e+06</td>\n",
       "      <td>...</td>\n",
       "      <td>2.114418e+06</td>\n",
       "      <td>2.114418e+06</td>\n",
       "      <td>2.114418e+06</td>\n",
       "      <td>2114418.0</td>\n",
       "      <td>2.115954e+06</td>\n",
       "      <td>2.115954e+06</td>\n",
       "      <td>2.115954e+06</td>\n",
       "      <td>2.104365e+06</td>\n",
       "      <td>2.104365e+06</td>\n",
       "      <td>2.069724e+06</td>\n",
       "    </tr>\n",
       "    <tr>\n",
       "      <th>mean</th>\n",
       "      <td>4.978058e+05</td>\n",
       "      <td>3.374134e+00</td>\n",
       "      <td>4.741220e+05</td>\n",
       "      <td>1.388109e+00</td>\n",
       "      <td>2.883798e+01</td>\n",
       "      <td>3.578908e+03</td>\n",
       "      <td>1.234728e+03</td>\n",
       "      <td>2.187497e+00</td>\n",
       "      <td>2.935285e-01</td>\n",
       "      <td>1.633073e-03</td>\n",
       "      <td>...</td>\n",
       "      <td>1.623671e-01</td>\n",
       "      <td>9.884469e-02</td>\n",
       "      <td>2.675287e+00</td>\n",
       "      <td>0.0</td>\n",
       "      <td>1.346630e+01</td>\n",
       "      <td>4.145678e+00</td>\n",
       "      <td>6.770168e+00</td>\n",
       "      <td>4.185315e+01</td>\n",
       "      <td>-8.766732e+01</td>\n",
       "      <td>4.741861e+05</td>\n",
       "    </tr>\n",
       "    <tr>\n",
       "      <th>std</th>\n",
       "      <td>2.860458e+05</td>\n",
       "      <td>2.597244e+03</td>\n",
       "      <td>2.699553e+05</td>\n",
       "      <td>1.404195e+00</td>\n",
       "      <td>5.998828e+00</td>\n",
       "      <td>2.883237e+03</td>\n",
       "      <td>7.051333e+02</td>\n",
       "      <td>6.244938e-01</td>\n",
       "      <td>8.312822e-01</td>\n",
       "      <td>4.724396e-02</td>\n",
       "      <td>...</td>\n",
       "      <td>6.184463e-01</td>\n",
       "      <td>4.581869e-01</td>\n",
       "      <td>2.067176e+00</td>\n",
       "      <td>0.0</td>\n",
       "      <td>5.381389e+00</td>\n",
       "      <td>1.983840e+00</td>\n",
       "      <td>3.372745e+00</td>\n",
       "      <td>4.754937e-01</td>\n",
       "      <td>9.818589e-01</td>\n",
       "      <td>2.698967e+05</td>\n",
       "    </tr>\n",
       "    <tr>\n",
       "      <th>min</th>\n",
       "      <td>2.000000e+00</td>\n",
       "      <td>0.000000e+00</td>\n",
       "      <td>2.000000e+00</td>\n",
       "      <td>0.000000e+00</td>\n",
       "      <td>0.000000e+00</td>\n",
       "      <td>0.000000e+00</td>\n",
       "      <td>1.110000e+02</td>\n",
       "      <td>1.000000e+00</td>\n",
       "      <td>0.000000e+00</td>\n",
       "      <td>0.000000e+00</td>\n",
       "      <td>...</td>\n",
       "      <td>0.000000e+00</td>\n",
       "      <td>0.000000e+00</td>\n",
       "      <td>0.000000e+00</td>\n",
       "      <td>0.0</td>\n",
       "      <td>0.000000e+00</td>\n",
       "      <td>1.000000e+00</td>\n",
       "      <td>1.000000e+00</td>\n",
       "      <td>0.000000e+00</td>\n",
       "      <td>-8.793401e+01</td>\n",
       "      <td>2.000000e+00</td>\n",
       "    </tr>\n",
       "    <tr>\n",
       "      <th>25%</th>\n",
       "      <td>2.496780e+05</td>\n",
       "      <td>1.000000e+00</td>\n",
       "      <td>2.419340e+05</td>\n",
       "      <td>1.000000e+00</td>\n",
       "      <td>3.000000e+01</td>\n",
       "      <td>1.159000e+03</td>\n",
       "      <td>7.120000e+02</td>\n",
       "      <td>2.000000e+00</td>\n",
       "      <td>0.000000e+00</td>\n",
       "      <td>0.000000e+00</td>\n",
       "      <td>...</td>\n",
       "      <td>0.000000e+00</td>\n",
       "      <td>0.000000e+00</td>\n",
       "      <td>2.000000e+00</td>\n",
       "      <td>0.0</td>\n",
       "      <td>1.000000e+01</td>\n",
       "      <td>2.000000e+00</td>\n",
       "      <td>4.000000e+00</td>\n",
       "      <td>4.178577e+01</td>\n",
       "      <td>-8.772140e+01</td>\n",
       "      <td>2.420580e+05</td>\n",
       "    </tr>\n",
       "    <tr>\n",
       "      <th>50%</th>\n",
       "      <td>4.984790e+05</td>\n",
       "      <td>2.000000e+00</td>\n",
       "      <td>4.755130e+05</td>\n",
       "      <td>1.000000e+00</td>\n",
       "      <td>3.000000e+01</td>\n",
       "      <td>3.101000e+03</td>\n",
       "      <td>1.211000e+03</td>\n",
       "      <td>2.000000e+00</td>\n",
       "      <td>0.000000e+00</td>\n",
       "      <td>0.000000e+00</td>\n",
       "      <td>...</td>\n",
       "      <td>0.000000e+00</td>\n",
       "      <td>0.000000e+00</td>\n",
       "      <td>2.000000e+00</td>\n",
       "      <td>0.0</td>\n",
       "      <td>1.400000e+01</td>\n",
       "      <td>4.000000e+00</td>\n",
       "      <td>7.000000e+00</td>\n",
       "      <td>4.187612e+01</td>\n",
       "      <td>-8.767328e+01</td>\n",
       "      <td>4.755200e+05</td>\n",
       "    </tr>\n",
       "    <tr>\n",
       "      <th>75%</th>\n",
       "      <td>7.466410e+05</td>\n",
       "      <td>2.000000e+00</td>\n",
       "      <td>7.083555e+05</td>\n",
       "      <td>2.000000e+00</td>\n",
       "      <td>3.000000e+01</td>\n",
       "      <td>5.500000e+03</td>\n",
       "      <td>1.821000e+03</td>\n",
       "      <td>2.000000e+00</td>\n",
       "      <td>0.000000e+00</td>\n",
       "      <td>0.000000e+00</td>\n",
       "      <td>...</td>\n",
       "      <td>0.000000e+00</td>\n",
       "      <td>0.000000e+00</td>\n",
       "      <td>3.000000e+00</td>\n",
       "      <td>0.0</td>\n",
       "      <td>1.700000e+01</td>\n",
       "      <td>6.000000e+00</td>\n",
       "      <td>1.000000e+01</td>\n",
       "      <td>4.192352e+01</td>\n",
       "      <td>-8.763263e+01</td>\n",
       "      <td>7.083760e+05</td>\n",
       "    </tr>\n",
       "    <tr>\n",
       "      <th>max</th>\n",
       "      <td>9.906910e+05</td>\n",
       "      <td>3.778035e+06</td>\n",
       "      <td>9.388350e+05</td>\n",
       "      <td>9.900000e+01</td>\n",
       "      <td>9.900000e+01</td>\n",
       "      <td>4.511000e+05</td>\n",
       "      <td>6.100000e+03</td>\n",
       "      <td>1.800000e+01</td>\n",
       "      <td>2.100000e+01</td>\n",
       "      <td>4.000000e+00</td>\n",
       "      <td>...</td>\n",
       "      <td>2.100000e+01</td>\n",
       "      <td>1.500000e+01</td>\n",
       "      <td>6.100000e+01</td>\n",
       "      <td>0.0</td>\n",
       "      <td>2.300000e+01</td>\n",
       "      <td>7.000000e+00</td>\n",
       "      <td>1.200000e+01</td>\n",
       "      <td>4.202278e+01</td>\n",
       "      <td>0.000000e+00</td>\n",
       "      <td>9.388270e+05</td>\n",
       "    </tr>\n",
       "  </tbody>\n",
       "</table>\n",
       "<p>8 rows × 21 columns</p>\n",
       "</div>"
      ],
      "text/plain": [
       "       CRASH_UNIT_ID       UNIT_NO  VEHICLE_ID_x  OCCUPANT_CNT  \\\n",
       "count   2.115954e+06  2.115954e+06  2.065023e+06  2.065023e+06   \n",
       "mean    4.978058e+05  3.374134e+00  4.741220e+05  1.388109e+00   \n",
       "std     2.860458e+05  2.597244e+03  2.699553e+05  1.404195e+00   \n",
       "min     2.000000e+00  0.000000e+00  2.000000e+00  0.000000e+00   \n",
       "25%     2.496780e+05  1.000000e+00  2.419340e+05  1.000000e+00   \n",
       "50%     4.984790e+05  2.000000e+00  4.755130e+05  1.000000e+00   \n",
       "75%     7.466410e+05  2.000000e+00  7.083555e+05  2.000000e+00   \n",
       "max     9.906910e+05  3.778035e+06  9.388350e+05  9.900000e+01   \n",
       "\n",
       "       POSTED_SPEED_LIMIT     STREET_NO  BEAT_OF_OCCURRENCE     NUM_UNITS  \\\n",
       "count        2.115954e+06  2.115954e+06        2.115930e+06  2.115954e+06   \n",
       "mean         2.883798e+01  3.578908e+03        1.234728e+03  2.187497e+00   \n",
       "std          5.998828e+00  2.883237e+03        7.051333e+02  6.244938e-01   \n",
       "min          0.000000e+00  0.000000e+00        1.110000e+02  1.000000e+00   \n",
       "25%          3.000000e+01  1.159000e+03        7.120000e+02  2.000000e+00   \n",
       "50%          3.000000e+01  3.101000e+03        1.211000e+03  2.000000e+00   \n",
       "75%          3.000000e+01  5.500000e+03        1.821000e+03  2.000000e+00   \n",
       "max          9.900000e+01  4.511000e+05        6.100000e+03  1.800000e+01   \n",
       "\n",
       "       INJURIES_TOTAL  INJURIES_FATAL  ...  INJURIES_NON_INCAPACITATING  \\\n",
       "count    2.114418e+06    2.114418e+06  ...                 2.114418e+06   \n",
       "mean     2.935285e-01    1.633073e-03  ...                 1.623671e-01   \n",
       "std      8.312822e-01    4.724396e-02  ...                 6.184463e-01   \n",
       "min      0.000000e+00    0.000000e+00  ...                 0.000000e+00   \n",
       "25%      0.000000e+00    0.000000e+00  ...                 0.000000e+00   \n",
       "50%      0.000000e+00    0.000000e+00  ...                 0.000000e+00   \n",
       "75%      0.000000e+00    0.000000e+00  ...                 0.000000e+00   \n",
       "max      2.100000e+01    4.000000e+00  ...                 2.100000e+01   \n",
       "\n",
       "       INJURIES_REPORTED_NOT_EVIDENT  INJURIES_NO_INDICATION  \\\n",
       "count                   2.114418e+06            2.114418e+06   \n",
       "mean                    9.884469e-02            2.675287e+00   \n",
       "std                     4.581869e-01            2.067176e+00   \n",
       "min                     0.000000e+00            0.000000e+00   \n",
       "25%                     0.000000e+00            2.000000e+00   \n",
       "50%                     0.000000e+00            2.000000e+00   \n",
       "75%                     0.000000e+00            3.000000e+00   \n",
       "max                     1.500000e+01            6.100000e+01   \n",
       "\n",
       "       INJURIES_UNKNOWN    CRASH_HOUR  CRASH_DAY_OF_WEEK   CRASH_MONTH  \\\n",
       "count         2114418.0  2.115954e+06       2.115954e+06  2.115954e+06   \n",
       "mean                0.0  1.346630e+01       4.145678e+00  6.770168e+00   \n",
       "std                 0.0  5.381389e+00       1.983840e+00  3.372745e+00   \n",
       "min                 0.0  0.000000e+00       1.000000e+00  1.000000e+00   \n",
       "25%                 0.0  1.000000e+01       2.000000e+00  4.000000e+00   \n",
       "50%                 0.0  1.400000e+01       4.000000e+00  7.000000e+00   \n",
       "75%                 0.0  1.700000e+01       6.000000e+00  1.000000e+01   \n",
       "max                 0.0  2.300000e+01       7.000000e+00  1.200000e+01   \n",
       "\n",
       "           LATITUDE     LONGITUDE  VEHICLE_ID_y  \n",
       "count  2.104365e+06  2.104365e+06  2.069724e+06  \n",
       "mean   4.185315e+01 -8.766732e+01  4.741861e+05  \n",
       "std    4.754937e-01  9.818589e-01  2.698967e+05  \n",
       "min    0.000000e+00 -8.793401e+01  2.000000e+00  \n",
       "25%    4.178577e+01 -8.772140e+01  2.420580e+05  \n",
       "50%    4.187612e+01 -8.767328e+01  4.755200e+05  \n",
       "75%    4.192352e+01 -8.763263e+01  7.083760e+05  \n",
       "max    4.202278e+01  0.000000e+00  9.388270e+05  \n",
       "\n",
       "[8 rows x 21 columns]"
      ]
     },
     "execution_count": 23,
     "metadata": {},
     "output_type": "execute_result"
    }
   ],
   "source": [
    "dfmerged.describe()"
   ]
  },
  {
   "cell_type": "code",
   "execution_count": 17,
   "metadata": {},
   "outputs": [],
   "source": [
    "dfmerged = dfmerged.dropna() # because of amount of data, am going to remove all rows with an NaN value present"
   ]
  },
  {
   "cell_type": "code",
   "execution_count": 18,
   "metadata": {},
   "outputs": [],
   "source": [
    "dfmerged = dfmerged.drop_duplicates(keep='first')"
   ]
  },
  {
   "cell_type": "code",
   "execution_count": null,
   "metadata": {},
   "outputs": [],
   "source": [
    "# what other columns can be dropped right away? \n",
    "# drop_columns = ['RD_NO_x, TRAVEL_DIRECTION, RD_NO_y, DATE_POLICE_NOTIFIED, STREET_NAME, STREET_DIRECTION, STREET_NO, CRASH_RECORD_ID, CRASH_UNIT_ID, UNIT_NO, VEHICLE_ID_x, FIRST_CONTACT_POINT, LOCATION']\n",
    "dfmerged = dfmerged.drop(columns=['CRASH_RECORD_ID', 'RD_NO_x', 'TRAVEL_DIRECTION', 'RD_NO_y', 'DATE_POLICE_NOTIFIED', 'STREET_NAME', 'STREET_DIRECTION', 'STREET_NO', 'CRASH_RECORD_ID', 'CRASH_UNIT_ID', 'UNIT_NO', 'VEHICLE_ID_x', 'FIRST_CONTACT_POINT', 'LOCATION'])"
   ]
  },
  {
   "cell_type": "code",
   "execution_count": null,
   "metadata": {},
   "outputs": [],
   "source": [
    "dfmerged = dfmerged.drop(columns=['RD_NO', 'VEHICLE_ID_y'])"
   ]
  },
  {
   "cell_type": "code",
   "execution_count": null,
   "metadata": {},
   "outputs": [],
   "source": [
    "dfmerged.info()"
   ]
  },
  {
   "cell_type": "code",
   "execution_count": null,
   "metadata": {},
   "outputs": [],
   "source": [
    "dfmerged['CRASH_TYPE'].unique() # multicollinearity with most severe injury column"
   ]
  },
  {
   "cell_type": "code",
   "execution_count": null,
   "metadata": {},
   "outputs": [],
   "source": [
    "dfmerged['MOST_SEVERE_INJURY'].unique() # target classification column, INJURIES_FATAL column has the total number of fatalities in a given accident - some of our rows are duplicates - how to remove"
   ]
  },
  {
   "cell_type": "code",
   "execution_count": null,
   "metadata": {},
   "outputs": [],
   "source": [
    "dfmerged['OCCUPANT_CNT'].unique() # occupant count"
   ]
  },
  {
   "cell_type": "code",
   "execution_count": null,
   "metadata": {},
   "outputs": [],
   "source": [
    "dfmerged['PERSON_TYPE'].unique()"
   ]
  },
  {
   "cell_type": "code",
   "execution_count": null,
   "metadata": {},
   "outputs": [],
   "source": [
    "dfmerged['INJURIES_FATAL'].unique()"
   ]
  },
  {
   "cell_type": "code",
   "execution_count": null,
   "metadata": {},
   "outputs": [],
   "source": [
    "dfmerged['INJURY_CLASSIFICATION'].unique() # gives injury on a per individual basis"
   ]
  },
  {
   "cell_type": "code",
   "execution_count": null,
   "metadata": {},
   "outputs": [],
   "source": [
    "dfmerged['MANEUVER'].unique()"
   ]
  },
  {
   "cell_type": "code",
   "execution_count": null,
   "metadata": {},
   "outputs": [],
   "source": [
    "dfmerged['PRIM_CONTRIBUTORY_CAUSE'].unique()"
   ]
  },
  {
   "cell_type": "code",
   "execution_count": null,
   "metadata": {},
   "outputs": [],
   "source": [
    "dfmerged['SEC_CONTRIBUTORY_CAUSE'].unique() "
   ]
  },
  {
   "cell_type": "code",
   "execution_count": null,
   "metadata": {},
   "outputs": [],
   "source": [
    "# There are a few more things to do to clean data\n",
    "# 1) I want to reduce amount of data - I only want crash data from year 2018 onwards so I will filter for that\n",
    "# 2) Remove rows that have 'Unkown' or 'Other' in the VEHICLE_DEFECT column\n",
    "# 3) Remove Unknown/NA from VEHICLE_TYPE, VEHICLE_USE, MANEUVER, \n",
    "# 4) Remove any rows with POSTED_SPEED_LIMIT less than 15 mph\n",
    "# 5) Remove Unknown from TRAFFIC_CONTROL_DEVICE\n",
    "# 6) Remove Unknown from DEVICE_CONDITION\n",
    "# 7) Remove longitude/latitude coordinates outside of Chicago area"
   ]
  },
  {
   "cell_type": "code",
   "execution_count": null,
   "metadata": {},
   "outputs": [],
   "source": [
    "dfmerged['CRASH_DATE_x'] = pd.to_datetime(dfmerged.CRASH_DATE_x)\n",
    "dfmerged['CRASH_DATE_x'] = pd.DatetimeIndex(dfmerged['CRASH_DATE_x']).year"
   ]
  },
  {
   "cell_type": "code",
   "execution_count": null,
   "metadata": {},
   "outputs": [],
   "source": [
    "dfmerged.head()"
   ]
  },
  {
   "cell_type": "code",
   "execution_count": null,
   "metadata": {},
   "outputs": [],
   "source": [
    "df_recent = dfmerged[dfmerged.CRASH_DATE_x >= 2015]"
   ]
  },
  {
   "cell_type": "code",
   "execution_count": null,
   "metadata": {},
   "outputs": [],
   "source": [
    "df_recent.info()"
   ]
  },
  {
   "cell_type": "code",
   "execution_count": null,
   "metadata": {},
   "outputs": [],
   "source": [
    "df_recent.describe()"
   ]
  },
  {
   "cell_type": "code",
   "execution_count": null,
   "metadata": {},
   "outputs": [],
   "source": [
    "df1 = df_recent[df_recent['VEHICLE_DEFECT'] != 'UNKNOWN']\n",
    "df1 = df1[df1['VEHICLE_DEFECT'] != 'OTHER']\n",
    "df1 = df1[df1['VEHICLE_TYPE'] != 'UNKNOWN/NA']\n",
    "df1 = df1[df1['TRAFFIC_CONTROL_DEVICE'] != 'UNKNOWN']\n",
    "df1 = df1[df1['DEVICE_CONDITION'] != 'UNKNOWN']"
   ]
  },
  {
   "cell_type": "code",
   "execution_count": null,
   "metadata": {},
   "outputs": [],
   "source": [
    "df1['VEHICLE_DEFECT'].unique()"
   ]
  },
  {
   "cell_type": "code",
   "execution_count": null,
   "metadata": {},
   "outputs": [],
   "source": [
    "df1 = df1[df1['LONGITUDE'] != 0]\n",
    "df1 = df1[df1['LATITUDE'] != 0]"
   ]
  },
  {
   "cell_type": "code",
   "execution_count": null,
   "metadata": {},
   "outputs": [],
   "source": [
    "df1.info()"
   ]
  },
  {
   "cell_type": "code",
   "execution_count": null,
   "metadata": {},
   "outputs": [],
   "source": [
    "df2 = df1.sample(frac=0.5)\n",
    "df2.to_csv('ChicagoCrashes.csv')\n",
    "Sample1 = df1.sample(frac=0.2)\n",
    "Sample2 = df1.sample(frac=0.2)\n",
    "Sample3 = df1.sample(frac=0.2)\n",
    "\n",
    "Sample1.to_csv('Sample1.csv')\n",
    "Sample2.to_csv('Sample2.csv')\n",
    "Sample3.to_csv('Sample3.csv')"
   ]
  },
  {
   "cell_type": "code",
   "execution_count": null,
   "metadata": {},
   "outputs": [],
   "source": [
    "Sample1.info()"
   ]
  },
  {
   "cell_type": "code",
   "execution_count": null,
   "metadata": {},
   "outputs": [],
   "source": []
  }
 ],
 "metadata": {
  "kernelspec": {
   "display_name": "Python 3",
   "language": "python",
   "name": "python3"
  },
  "language_info": {
   "codemirror_mode": {
    "name": "ipython",
    "version": 3
   },
   "file_extension": ".py",
   "mimetype": "text/x-python",
   "name": "python",
   "nbconvert_exporter": "python",
   "pygments_lexer": "ipython3",
   "version": "3.8.3"
  }
 },
 "nbformat": 4,
 "nbformat_minor": 2
}